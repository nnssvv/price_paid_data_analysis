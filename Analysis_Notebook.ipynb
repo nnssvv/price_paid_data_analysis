{
 "cells": [
  {
   "cell_type": "markdown",
   "id": "22a5f4d9",
   "metadata": {},
   "source": [
    "## 1) Load helper extractor class to process data for London only"
   ]
  },
  {
   "cell_type": "code",
   "execution_count": 6,
   "id": "d0cad996",
   "metadata": {},
   "outputs": [],
   "source": [
    "from src.LondonExtractor import LondonFilter"
   ]
  },
  {
   "cell_type": "code",
   "execution_count": 7,
   "id": "82cfe902",
   "metadata": {},
   "outputs": [
    {
     "name": "stdout",
     "output_type": "stream",
     "text": [
      "Filtered London data saved to: ./data/london.csv\n"
     ]
    }
   ],
   "source": [
    "filterer = LondonFilter(input_dir=\"./data/\", output_path=\"./data/london.csv\")\n",
    "filterer.process()"
   ]
  },
  {
   "cell_type": "markdown",
   "id": "1d7a9a4f",
   "metadata": {},
   "source": [
    "## 2) Read in London dataset"
   ]
  },
  {
   "cell_type": "code",
   "execution_count": 1,
   "id": "27db8f26",
   "metadata": {},
   "outputs": [],
   "source": [
    "import pandas as pd"
   ]
  },
  {
   "cell_type": "code",
   "execution_count": 2,
   "id": "88b0106d",
   "metadata": {},
   "outputs": [],
   "source": [
    "london_df = pd.read_csv(\"./data/london.csv\")"
   ]
  },
  {
   "cell_type": "code",
   "execution_count": 3,
   "id": "bd497c02",
   "metadata": {},
   "outputs": [
    {
     "data": {
      "application/vnd.microsoft.datawrangler.viewer.v0+json": {
       "columns": [
        {
         "name": "year",
         "rawType": "int32",
         "type": "integer"
        },
        {
         "name": "count",
         "rawType": "int64",
         "type": "integer"
        }
       ],
       "ref": "785ea1e1-a12d-46ed-a454-7f0bf2fda930",
       "rows": [
        [
         "2018",
         "67138"
        ],
        [
         "2019",
         "64677"
        ],
        [
         "2020",
         "59624"
        ],
        [
         "2021",
         "85207"
        ],
        [
         "2022",
         "75127"
        ],
        [
         "2023",
         "58875"
        ],
        [
         "2024",
         "57204"
        ],
        [
         "2025",
         "16270"
        ]
       ],
       "shape": {
        "columns": 1,
        "rows": 8
       }
      },
      "text/plain": [
       "year\n",
       "2018    67138\n",
       "2019    64677\n",
       "2020    59624\n",
       "2021    85207\n",
       "2022    75127\n",
       "2023    58875\n",
       "2024    57204\n",
       "2025    16270\n",
       "Name: count, dtype: int64"
      ]
     },
     "execution_count": 3,
     "metadata": {},
     "output_type": "execute_result"
    }
   ],
   "source": [
    "# Convert to datetime\n",
    "london_df['transfer_date'] = pd.to_datetime(london_df['transfer_date'], errors='coerce')\n",
    "\n",
    "# Extract year\n",
    "london_df['year'] = london_df['transfer_date'].dt.year\n",
    "\n",
    "# Value counts by year\n",
    "london_df['year'].value_counts().sort_index()\n"
   ]
  },
  {
   "cell_type": "code",
   "execution_count": 4,
   "id": "fedcf323",
   "metadata": {},
   "outputs": [
    {
     "data": {
      "application/vnd.microsoft.datawrangler.viewer.v0+json": {
       "columns": [
        {
         "name": "index",
         "rawType": "int64",
         "type": "integer"
        },
        {
         "name": "transaction_id",
         "rawType": "object",
         "type": "string"
        },
        {
         "name": "price",
         "rawType": "int64",
         "type": "integer"
        },
        {
         "name": "transfer_date",
         "rawType": "datetime64[ns]",
         "type": "datetime"
        },
        {
         "name": "postcode",
         "rawType": "object",
         "type": "unknown"
        },
        {
         "name": "property_type",
         "rawType": "object",
         "type": "string"
        },
        {
         "name": "old_new",
         "rawType": "object",
         "type": "string"
        },
        {
         "name": "duration",
         "rawType": "object",
         "type": "string"
        },
        {
         "name": "paon",
         "rawType": "object",
         "type": "string"
        },
        {
         "name": "saon",
         "rawType": "object",
         "type": "unknown"
        },
        {
         "name": "street",
         "rawType": "object",
         "type": "unknown"
        },
        {
         "name": "locality",
         "rawType": "object",
         "type": "unknown"
        },
        {
         "name": "town",
         "rawType": "object",
         "type": "string"
        },
        {
         "name": "district",
         "rawType": "object",
         "type": "string"
        },
        {
         "name": "county",
         "rawType": "object",
         "type": "string"
        },
        {
         "name": "ppd_category",
         "rawType": "object",
         "type": "string"
        },
        {
         "name": "record_status",
         "rawType": "object",
         "type": "string"
        },
        {
         "name": "year",
         "rawType": "int32",
         "type": "integer"
        }
       ],
       "ref": "ad75b65e-2e88-41ca-95d4-3c1e8de4ad70",
       "rows": [
        [
         "0",
         "{75050A85-94A5-9A88-E053-6B04A8C02390}",
         "545000",
         "2018-08-24 00:00:00",
         "SW17 0PS",
         "T",
         "N",
         "F",
         "137",
         null,
         "STRATHDON DRIVE",
         null,
         "LONDON",
         "WANDSWORTH",
         "GREATER LONDON",
         "A",
         "A",
         "2018"
        ],
        [
         "1",
         "{75050A85-94A9-9A88-E053-6B04A8C02390}",
         "480000",
         "2018-07-06 00:00:00",
         "SW2 3TP",
         "F",
         "N",
         "L",
         "64",
         null,
         "WYATT PARK ROAD",
         null,
         "LONDON",
         "LAMBETH",
         "GREATER LONDON",
         "A",
         "A",
         "2018"
        ],
        [
         "2",
         "{75050A85-94AD-9A88-E053-6B04A8C02390}",
         "415000",
         "2018-08-13 00:00:00",
         "SW14 7LR",
         "F",
         "N",
         "L",
         "HUNTINGDON COURT",
         "FLAT 12",
         "LITTLE ST LEONARDS",
         null,
         "LONDON",
         "RICHMOND UPON THAMES",
         "GREATER LONDON",
         "A",
         "A",
         "2018"
        ],
        [
         "3",
         "{75050A85-94AE-9A88-E053-6B04A8C02390}",
         "2765000",
         "2018-07-18 00:00:00",
         "SW15 6AL",
         "D",
         "N",
         "F",
         "57",
         null,
         "ST JOHNS AVENUE",
         null,
         "LONDON",
         "WANDSWORTH",
         "GREATER LONDON",
         "A",
         "A",
         "2018"
        ],
        [
         "4",
         "{75050A85-94B2-9A88-E053-6B04A8C02390}",
         "750000",
         "2018-08-07 00:00:00",
         "SW17 0NP",
         "T",
         "N",
         "F",
         "694",
         null,
         "GARRATT LANE",
         null,
         "LONDON",
         "WANDSWORTH",
         "GREATER LONDON",
         "A",
         "A",
         "2018"
        ],
        [
         "5",
         "{75050A85-94B4-9A88-E053-6B04A8C02390}",
         "310000",
         "2018-07-25 00:00:00",
         "SW18 3JE",
         "F",
         "N",
         "L",
         "CLIFFORD COURT",
         "FLAT 6",
         "HEATHFIELD ROAD",
         null,
         "LONDON",
         "WANDSWORTH",
         "GREATER LONDON",
         "A",
         "A",
         "2018"
        ],
        [
         "6",
         "{75050A85-94B6-9A88-E053-6B04A8C02390}",
         "1550000",
         "2018-08-20 00:00:00",
         "SW19 1SU",
         "S",
         "N",
         "F",
         "21",
         null,
         "PELHAM ROAD",
         null,
         "LONDON",
         "MERTON",
         "GREATER LONDON",
         "A",
         "A",
         "2018"
        ],
        [
         "7",
         "{75050A85-94B8-9A88-E053-6B04A8C02390}",
         "600000",
         "2018-08-02 00:00:00",
         "SE13 7AH",
         "T",
         "N",
         "F",
         "5",
         null,
         "GILLIAN STREET",
         null,
         "LONDON",
         "LEWISHAM",
         "GREATER LONDON",
         "A",
         "A",
         "2018"
        ],
        [
         "8",
         "{75050A85-94BA-9A88-E053-6B04A8C02390}",
         "403000",
         "2018-07-19 00:00:00",
         "SE2 0BW",
         "T",
         "N",
         "F",
         "85",
         null,
         "MCLEOD ROAD",
         null,
         "LONDON",
         "GREENWICH",
         "GREATER LONDON",
         "A",
         "A",
         "2018"
        ],
        [
         "9",
         "{75050A85-94BF-9A88-E053-6B04A8C02390}",
         "425000",
         "2018-07-10 00:00:00",
         "SW18 3JE",
         "F",
         "N",
         "L",
         "CLIFFORD COURT",
         "FLAT 17",
         "HEATHFIELD ROAD",
         null,
         "LONDON",
         "WANDSWORTH",
         "GREATER LONDON",
         "A",
         "A",
         "2018"
        ],
        [
         "10",
         "{75050A85-94C1-9A88-E053-6B04A8C02390}",
         "1210000",
         "2018-07-27 00:00:00",
         "SE24 0AQ",
         "T",
         "N",
         "F",
         "35",
         null,
         "FERNDENE ROAD",
         null,
         "LONDON",
         "LAMBETH",
         "GREATER LONDON",
         "A",
         "A",
         "2018"
        ],
        [
         "11",
         "{75050A85-94C2-9A88-E053-6B04A8C02390}",
         "1055000",
         "2018-08-08 00:00:00",
         "SW18 3AR",
         "T",
         "N",
         "F",
         "20",
         null,
         "BUCHAREST ROAD",
         null,
         "LONDON",
         "WANDSWORTH",
         "GREATER LONDON",
         "A",
         "A",
         "2018"
        ],
        [
         "12",
         "{75050A85-96BA-9A88-E053-6B04A8C02390}",
         "520000",
         "2018-07-24 00:00:00",
         "SE9 3JY",
         "T",
         "N",
         "F",
         "25",
         null,
         "BROWNSPRING DRIVE",
         null,
         "LONDON",
         "GREENWICH",
         "GREATER LONDON",
         "A",
         "A",
         "2018"
        ],
        [
         "13",
         "{75050A85-96C1-9A88-E053-6B04A8C02390}",
         "465000",
         "2018-05-18 00:00:00",
         "SE26 5JD",
         "F",
         "N",
         "L",
         "96",
         null,
         "BYNE ROAD",
         null,
         "LONDON",
         "BROMLEY",
         "GREATER LONDON",
         "A",
         "A",
         "2018"
        ],
        [
         "14",
         "{75050A85-96CC-9A88-E053-6B04A8C02390}",
         "2400000",
         "2018-08-17 00:00:00",
         "SW20 0JP",
         "D",
         "N",
         "F",
         "8",
         null,
         "PROSPECT PLACE",
         null,
         "LONDON",
         "MERTON",
         "GREATER LONDON",
         "A",
         "A",
         "2018"
        ],
        [
         "15",
         "{75050A85-96CD-9A88-E053-6B04A8C02390}",
         "325000",
         "2018-07-06 00:00:00",
         "SE19 2BG",
         "F",
         "N",
         "L",
         "56",
         null,
         "ANERLEY VALE",
         null,
         "LONDON",
         "BROMLEY",
         "GREATER LONDON",
         "A",
         "A",
         "2018"
        ],
        [
         "16",
         "{75050A85-96D6-9A88-E053-6B04A8C02390}",
         "350000",
         "2018-01-12 00:00:00",
         "SW19 2AP",
         "F",
         "N",
         "L",
         "34",
         null,
         "DINTON ROAD",
         null,
         "LONDON",
         "MERTON",
         "GREATER LONDON",
         "A",
         "A",
         "2018"
        ],
        [
         "17",
         "{75050A85-94C4-9A88-E053-6B04A8C02390}",
         "342000",
         "2018-05-17 00:00:00",
         "SW18 1JL",
         "F",
         "N",
         "L",
         "76",
         null,
         "NANTES CLOSE",
         null,
         "LONDON",
         "WANDSWORTH",
         "GREATER LONDON",
         "A",
         "A",
         "2018"
        ],
        [
         "18",
         "{75050A85-94C5-9A88-E053-6B04A8C02390}",
         "785000",
         "2018-08-03 00:00:00",
         "SW17 7PW",
         "T",
         "N",
         "F",
         "64",
         null,
         "FIRCROFT ROAD",
         null,
         "LONDON",
         "WANDSWORTH",
         "GREATER LONDON",
         "A",
         "A",
         "2018"
        ],
        [
         "19",
         "{75050A85-94C9-9A88-E053-6B04A8C02390}",
         "415000",
         "2018-07-27 00:00:00",
         "SE26 4SF",
         "T",
         "N",
         "F",
         "2",
         null,
         "GRACE PATH",
         null,
         "LONDON",
         "LEWISHAM",
         "GREATER LONDON",
         "A",
         "A",
         "2018"
        ],
        [
         "20",
         "{75050A85-94CA-9A88-E053-6B04A8C02390}",
         "2350000",
         "2018-07-27 00:00:00",
         "SW13 9RZ",
         "S",
         "N",
         "F",
         "35",
         null,
         "WESTMORELAND ROAD",
         null,
         "LONDON",
         "RICHMOND UPON THAMES",
         "GREATER LONDON",
         "A",
         "A",
         "2018"
        ],
        [
         "21",
         "{75050A85-94CC-9A88-E053-6B04A8C02390}",
         "650000",
         "2018-07-20 00:00:00",
         "SW16 6SN",
         "S",
         "N",
         "F",
         "35",
         null,
         "DALESIDE ROAD",
         null,
         "LONDON",
         "WANDSWORTH",
         "GREATER LONDON",
         "A",
         "A",
         "2018"
        ],
        [
         "22",
         "{75050A85-94CF-9A88-E053-6B04A8C02390}",
         "482500",
         "2018-08-23 00:00:00",
         "SE17 1EZ",
         "F",
         "N",
         "L",
         "61A",
         null,
         "DARWIN STREET",
         null,
         "LONDON",
         "SOUTHWARK",
         "GREATER LONDON",
         "A",
         "A",
         "2018"
        ],
        [
         "23",
         "{75050A85-94D1-9A88-E053-6B04A8C02390}",
         "460000",
         "2018-07-12 00:00:00",
         "SE26 6JX",
         "T",
         "N",
         "F",
         "34",
         null,
         "MILL GARDENS",
         null,
         "LONDON",
         "LEWISHAM",
         "GREATER LONDON",
         "A",
         "A",
         "2018"
        ],
        [
         "24",
         "{75050A85-94D2-9A88-E053-6B04A8C02390}",
         "550000",
         "2018-07-27 00:00:00",
         "SE13 6DS",
         "T",
         "N",
         "F",
         "22",
         null,
         "KNOWLES HILL CRESCENT",
         null,
         "LONDON",
         "LEWISHAM",
         "GREATER LONDON",
         "A",
         "A",
         "2018"
        ],
        [
         "25",
         "{75050A85-94D3-9A88-E053-6B04A8C02390}",
         "363000",
         "2018-07-06 00:00:00",
         "SW16 1DN",
         "F",
         "N",
         "L",
         "LEIGHAM HALL",
         "FLAT 7",
         "STREATHAM HIGH ROAD",
         null,
         "LONDON",
         "LAMBETH",
         "GREATER LONDON",
         "A",
         "A",
         "2018"
        ],
        [
         "26",
         "{75050A85-94D5-9A88-E053-6B04A8C02390}",
         "2175000",
         "2018-08-03 00:00:00",
         "SW14 8BH",
         "S",
         "N",
         "F",
         "9",
         null,
         "CLARE LAWN AVENUE",
         null,
         "LONDON",
         "RICHMOND UPON THAMES",
         "GREATER LONDON",
         "A",
         "A",
         "2018"
        ],
        [
         "27",
         "{75050A85-94D6-9A88-E053-6B04A8C02390}",
         "525000",
         "2018-07-27 00:00:00",
         "SE9 3LH",
         "S",
         "N",
         "F",
         "155",
         null,
         "DOMONIC DRIVE",
         null,
         "LONDON",
         "GREENWICH",
         "GREATER LONDON",
         "A",
         "A",
         "2018"
        ],
        [
         "28",
         "{75050A85-94D7-9A88-E053-6B04A8C02390}",
         "625000",
         "2018-07-20 00:00:00",
         "SW20 9NX",
         "T",
         "N",
         "F",
         "44",
         null,
         "HAYNT WALK",
         null,
         "LONDON",
         "MERTON",
         "GREATER LONDON",
         "A",
         "A",
         "2018"
        ],
        [
         "29",
         "{75050A85-94DD-9A88-E053-6B04A8C02390}",
         "375000",
         "2018-07-13 00:00:00",
         "SW17 7UH",
         "T",
         "N",
         "F",
         "51",
         null,
         "ST PETERS CLOSE",
         null,
         "LONDON",
         "WANDSWORTH",
         "GREATER LONDON",
         "A",
         "A",
         "2018"
        ],
        [
         "30",
         "{75050A85-94E0-9A88-E053-6B04A8C02390}",
         "490000",
         "2018-08-06 00:00:00",
         "SE19 3RA",
         "S",
         "N",
         "F",
         "80",
         null,
         "MOORE ROAD",
         null,
         "LONDON",
         "CROYDON",
         "GREATER LONDON",
         "A",
         "A",
         "2018"
        ],
        [
         "31",
         "{75050A85-94E1-9A88-E053-6B04A8C02390}",
         "395000",
         "2018-08-03 00:00:00",
         "SE6 3BH",
         "T",
         "N",
         "F",
         "55",
         null,
         "BARMESTON ROAD",
         null,
         "LONDON",
         "LEWISHAM",
         "GREATER LONDON",
         "A",
         "A",
         "2018"
        ],
        [
         "32",
         "{75050A85-94E2-9A88-E053-6B04A8C02390}",
         "447000",
         "2018-07-06 00:00:00",
         "SE9 3NX",
         "S",
         "N",
         "F",
         "70",
         null,
         "FELHAMPTON ROAD",
         null,
         "LONDON",
         "GREENWICH",
         "GREATER LONDON",
         "A",
         "A",
         "2018"
        ],
        [
         "33",
         "{75050A85-96E6-9A88-E053-6B04A8C02390}",
         "272000",
         "2018-08-07 00:00:00",
         "SE28 8QJ",
         "T",
         "N",
         "F",
         "5",
         null,
         "CHART HILLS CLOSE",
         null,
         "LONDON",
         "BEXLEY",
         "GREATER LONDON",
         "A",
         "A",
         "2018"
        ],
        [
         "34",
         "{75050A85-96E8-9A88-E053-6B04A8C02390}",
         "485000",
         "2018-07-13 00:00:00",
         "SW19 2DX",
         "F",
         "N",
         "L",
         "9A",
         "FLAT 1",
         "CLARENDON ROAD",
         null,
         "LONDON",
         "MERTON",
         "GREATER LONDON",
         "A",
         "A",
         "2018"
        ],
        [
         "35",
         "{75050A85-96EA-9A88-E053-6B04A8C02390}",
         "350000",
         "2018-07-24 00:00:00",
         "SW20 0AN",
         "F",
         "N",
         "L",
         "9A",
         null,
         "ABOYNE DRIVE",
         null,
         "LONDON",
         "MERTON",
         "GREATER LONDON",
         "A",
         "A",
         "2018"
        ],
        [
         "36",
         "{75050A85-96F2-9A88-E053-6B04A8C02390}",
         "275000",
         "2018-08-13 00:00:00",
         "SE28 8QE",
         "T",
         "N",
         "F",
         "20",
         null,
         "ST GEORGES CLOSE",
         null,
         "LONDON",
         "BEXLEY",
         "GREATER LONDON",
         "A",
         "A",
         "2018"
        ],
        [
         "37",
         "{75050A85-96F7-9A88-E053-6B04A8C02390}",
         "615000",
         "2018-08-24 00:00:00",
         "SW20 8EL",
         "T",
         "N",
         "F",
         "39",
         null,
         "DORIEN ROAD",
         null,
         "LONDON",
         "MERTON",
         "GREATER LONDON",
         "A",
         "A",
         "2018"
        ],
        [
         "38",
         "{75050A85-98E9-9A88-E053-6B04A8C02390}",
         "211000",
         "2018-05-17 00:00:00",
         "SE25 5NG",
         "F",
         "N",
         "L",
         "40A",
         null,
         "ENMORE ROAD",
         null,
         "LONDON",
         "CROYDON",
         "GREATER LONDON",
         "A",
         "A",
         "2018"
        ],
        [
         "39",
         "{75050A85-98EB-9A88-E053-6B04A8C02390}",
         "552500",
         "2018-05-11 00:00:00",
         "SW17 9DP",
         "F",
         "N",
         "L",
         "80",
         null,
         "ROBINSON ROAD",
         "COLLIERS WOOD",
         "LONDON",
         "MERTON",
         "GREATER LONDON",
         "A",
         "A",
         "2018"
        ],
        [
         "40",
         "{75050A85-98EF-9A88-E053-6B04A8C02390}",
         "320000",
         "2018-05-24 00:00:00",
         "SW16 5TS",
         "F",
         "N",
         "L",
         "60",
         "FIRST FLOOR FLAT",
         "BISHOPS PARK ROAD",
         null,
         "LONDON",
         "CROYDON",
         "GREATER LONDON",
         "A",
         "A",
         "2018"
        ],
        [
         "41",
         "{75050A85-98F4-9A88-E053-6B04A8C02390}",
         "305000",
         "2018-07-26 00:00:00",
         "SE19 1SB",
         "F",
         "N",
         "L",
         "74",
         "FLAT 3",
         "WESTOW HILL",
         null,
         "LONDON",
         "CROYDON",
         "GREATER LONDON",
         "A",
         "A",
         "2018"
        ],
        [
         "42",
         "{75050A85-98F7-9A88-E053-6B04A8C02390}",
         "323750",
         "2018-04-30 00:00:00",
         "SE20 7JF",
         "F",
         "N",
         "L",
         "11A",
         null,
         "WORDSWORTH ROAD",
         null,
         "LONDON",
         "BROMLEY",
         "GREATER LONDON",
         "A",
         "A",
         "2018"
        ],
        [
         "43",
         "{75050A85-98FB-9A88-E053-6B04A8C02390}",
         "450000",
         "2018-07-13 00:00:00",
         "SW20 9EP",
         "F",
         "N",
         "L",
         "18A",
         null,
         "CANNON HILL LANE",
         null,
         "LONDON",
         "MERTON",
         "GREATER LONDON",
         "A",
         "A",
         "2018"
        ],
        [
         "44",
         "{75050A85-98FE-9A88-E053-6B04A8C02390}",
         "384995",
         "2018-05-04 00:00:00",
         "SE26 5FF",
         "F",
         "Y",
         "L",
         "3",
         "FLAT 1",
         "PURBECK GARDENS",
         null,
         "LONDON",
         "BROMLEY",
         "GREATER LONDON",
         "A",
         "A",
         "2018"
        ],
        [
         "45",
         "{75050A85-9901-9A88-E053-6B04A8C02390}",
         "599995",
         "2018-04-30 00:00:00",
         "SE26 5FF",
         "F",
         "Y",
         "L",
         "3",
         "FLAT 48",
         "PURBECK GARDENS",
         null,
         "LONDON",
         "BROMLEY",
         "GREATER LONDON",
         "A",
         "A",
         "2018"
        ],
        [
         "46",
         "{75050A85-9903-9A88-E053-6B04A8C02390}",
         "446900",
         "2018-04-30 00:00:00",
         "SE26 5FD",
         "F",
         "Y",
         "L",
         "11",
         "FLAT 4",
         "STATION APPROACH",
         null,
         "LONDON",
         "BROMLEY",
         "GREATER LONDON",
         "A",
         "A",
         "2018"
        ],
        [
         "47",
         "{75050A85-9904-9A88-E053-6B04A8C02390}",
         "518995",
         "2018-04-30 00:00:00",
         "SE26 5FE",
         "F",
         "Y",
         "L",
         "1",
         "FLAT 21",
         "PURBECK GARDENS",
         null,
         "LONDON",
         "BROMLEY",
         "GREATER LONDON",
         "A",
         "A",
         "2018"
        ],
        [
         "48",
         "{75050A85-9906-9A88-E053-6B04A8C02390}",
         "390000",
         "2018-05-11 00:00:00",
         "SE20 7TZ",
         "F",
         "N",
         "L",
         "64A",
         "FLAT 3",
         "TREMAINE ROAD",
         null,
         "LONDON",
         "BROMLEY",
         "GREATER LONDON",
         "A",
         "A",
         "2018"
        ],
        [
         "49",
         "{75050A85-9907-9A88-E053-6B04A8C02390}",
         "289950",
         "2018-05-11 00:00:00",
         "SE25 5BA",
         "F",
         "N",
         "L",
         "25",
         "FLAT 2",
         "BIRCHANGER ROAD",
         null,
         "LONDON",
         "CROYDON",
         "GREATER LONDON",
         "A",
         "A",
         "2018"
        ]
       ],
       "shape": {
        "columns": 17,
        "rows": 484122
       }
      },
      "text/html": [
       "<div>\n",
       "<style scoped>\n",
       "    .dataframe tbody tr th:only-of-type {\n",
       "        vertical-align: middle;\n",
       "    }\n",
       "\n",
       "    .dataframe tbody tr th {\n",
       "        vertical-align: top;\n",
       "    }\n",
       "\n",
       "    .dataframe thead th {\n",
       "        text-align: right;\n",
       "    }\n",
       "</style>\n",
       "<table border=\"1\" class=\"dataframe\">\n",
       "  <thead>\n",
       "    <tr style=\"text-align: right;\">\n",
       "      <th></th>\n",
       "      <th>transaction_id</th>\n",
       "      <th>price</th>\n",
       "      <th>transfer_date</th>\n",
       "      <th>postcode</th>\n",
       "      <th>property_type</th>\n",
       "      <th>old_new</th>\n",
       "      <th>duration</th>\n",
       "      <th>paon</th>\n",
       "      <th>saon</th>\n",
       "      <th>street</th>\n",
       "      <th>locality</th>\n",
       "      <th>town</th>\n",
       "      <th>district</th>\n",
       "      <th>county</th>\n",
       "      <th>ppd_category</th>\n",
       "      <th>record_status</th>\n",
       "      <th>year</th>\n",
       "    </tr>\n",
       "  </thead>\n",
       "  <tbody>\n",
       "    <tr>\n",
       "      <th>0</th>\n",
       "      <td>{75050A85-94A5-9A88-E053-6B04A8C02390}</td>\n",
       "      <td>545000</td>\n",
       "      <td>2018-08-24</td>\n",
       "      <td>SW17 0PS</td>\n",
       "      <td>T</td>\n",
       "      <td>N</td>\n",
       "      <td>F</td>\n",
       "      <td>137</td>\n",
       "      <td>NaN</td>\n",
       "      <td>STRATHDON DRIVE</td>\n",
       "      <td>NaN</td>\n",
       "      <td>LONDON</td>\n",
       "      <td>WANDSWORTH</td>\n",
       "      <td>GREATER LONDON</td>\n",
       "      <td>A</td>\n",
       "      <td>A</td>\n",
       "      <td>2018</td>\n",
       "    </tr>\n",
       "    <tr>\n",
       "      <th>1</th>\n",
       "      <td>{75050A85-94A9-9A88-E053-6B04A8C02390}</td>\n",
       "      <td>480000</td>\n",
       "      <td>2018-07-06</td>\n",
       "      <td>SW2 3TP</td>\n",
       "      <td>F</td>\n",
       "      <td>N</td>\n",
       "      <td>L</td>\n",
       "      <td>64</td>\n",
       "      <td>NaN</td>\n",
       "      <td>WYATT PARK ROAD</td>\n",
       "      <td>NaN</td>\n",
       "      <td>LONDON</td>\n",
       "      <td>LAMBETH</td>\n",
       "      <td>GREATER LONDON</td>\n",
       "      <td>A</td>\n",
       "      <td>A</td>\n",
       "      <td>2018</td>\n",
       "    </tr>\n",
       "    <tr>\n",
       "      <th>2</th>\n",
       "      <td>{75050A85-94AD-9A88-E053-6B04A8C02390}</td>\n",
       "      <td>415000</td>\n",
       "      <td>2018-08-13</td>\n",
       "      <td>SW14 7LR</td>\n",
       "      <td>F</td>\n",
       "      <td>N</td>\n",
       "      <td>L</td>\n",
       "      <td>HUNTINGDON COURT</td>\n",
       "      <td>FLAT 12</td>\n",
       "      <td>LITTLE ST LEONARDS</td>\n",
       "      <td>NaN</td>\n",
       "      <td>LONDON</td>\n",
       "      <td>RICHMOND UPON THAMES</td>\n",
       "      <td>GREATER LONDON</td>\n",
       "      <td>A</td>\n",
       "      <td>A</td>\n",
       "      <td>2018</td>\n",
       "    </tr>\n",
       "    <tr>\n",
       "      <th>3</th>\n",
       "      <td>{75050A85-94AE-9A88-E053-6B04A8C02390}</td>\n",
       "      <td>2765000</td>\n",
       "      <td>2018-07-18</td>\n",
       "      <td>SW15 6AL</td>\n",
       "      <td>D</td>\n",
       "      <td>N</td>\n",
       "      <td>F</td>\n",
       "      <td>57</td>\n",
       "      <td>NaN</td>\n",
       "      <td>ST JOHNS AVENUE</td>\n",
       "      <td>NaN</td>\n",
       "      <td>LONDON</td>\n",
       "      <td>WANDSWORTH</td>\n",
       "      <td>GREATER LONDON</td>\n",
       "      <td>A</td>\n",
       "      <td>A</td>\n",
       "      <td>2018</td>\n",
       "    </tr>\n",
       "    <tr>\n",
       "      <th>4</th>\n",
       "      <td>{75050A85-94B2-9A88-E053-6B04A8C02390}</td>\n",
       "      <td>750000</td>\n",
       "      <td>2018-08-07</td>\n",
       "      <td>SW17 0NP</td>\n",
       "      <td>T</td>\n",
       "      <td>N</td>\n",
       "      <td>F</td>\n",
       "      <td>694</td>\n",
       "      <td>NaN</td>\n",
       "      <td>GARRATT LANE</td>\n",
       "      <td>NaN</td>\n",
       "      <td>LONDON</td>\n",
       "      <td>WANDSWORTH</td>\n",
       "      <td>GREATER LONDON</td>\n",
       "      <td>A</td>\n",
       "      <td>A</td>\n",
       "      <td>2018</td>\n",
       "    </tr>\n",
       "    <tr>\n",
       "      <th>...</th>\n",
       "      <td>...</td>\n",
       "      <td>...</td>\n",
       "      <td>...</td>\n",
       "      <td>...</td>\n",
       "      <td>...</td>\n",
       "      <td>...</td>\n",
       "      <td>...</td>\n",
       "      <td>...</td>\n",
       "      <td>...</td>\n",
       "      <td>...</td>\n",
       "      <td>...</td>\n",
       "      <td>...</td>\n",
       "      <td>...</td>\n",
       "      <td>...</td>\n",
       "      <td>...</td>\n",
       "      <td>...</td>\n",
       "      <td>...</td>\n",
       "    </tr>\n",
       "    <tr>\n",
       "      <th>484117</th>\n",
       "      <td>{38EDC0C3-613C-0F63-E063-4704A8C00424}</td>\n",
       "      <td>446000</td>\n",
       "      <td>2025-05-02</td>\n",
       "      <td>SW12 8NY</td>\n",
       "      <td>F</td>\n",
       "      <td>N</td>\n",
       "      <td>L</td>\n",
       "      <td>56</td>\n",
       "      <td>FLAT 1</td>\n",
       "      <td>NIGHTINGALE LANE</td>\n",
       "      <td>NaN</td>\n",
       "      <td>LONDON</td>\n",
       "      <td>WANDSWORTH</td>\n",
       "      <td>GREATER LONDON</td>\n",
       "      <td>A</td>\n",
       "      <td>A</td>\n",
       "      <td>2025</td>\n",
       "    </tr>\n",
       "    <tr>\n",
       "      <th>484118</th>\n",
       "      <td>{38EDC0C3-613D-0F63-E063-4704A8C00424}</td>\n",
       "      <td>380000</td>\n",
       "      <td>2025-05-16</td>\n",
       "      <td>E15 2GB</td>\n",
       "      <td>F</td>\n",
       "      <td>N</td>\n",
       "      <td>L</td>\n",
       "      <td>OPAL COURT, 172</td>\n",
       "      <td>76</td>\n",
       "      <td>HIGH STREET</td>\n",
       "      <td>STRATFORD</td>\n",
       "      <td>LONDON</td>\n",
       "      <td>NEWHAM</td>\n",
       "      <td>GREATER LONDON</td>\n",
       "      <td>A</td>\n",
       "      <td>A</td>\n",
       "      <td>2025</td>\n",
       "    </tr>\n",
       "    <tr>\n",
       "      <th>484119</th>\n",
       "      <td>{38EDC0C3-613E-0F63-E063-4704A8C00424}</td>\n",
       "      <td>500000</td>\n",
       "      <td>2025-03-31</td>\n",
       "      <td>SE23 1BF</td>\n",
       "      <td>S</td>\n",
       "      <td>N</td>\n",
       "      <td>F</td>\n",
       "      <td>4</td>\n",
       "      <td>NaN</td>\n",
       "      <td>BEAUMARIS MEWS</td>\n",
       "      <td>NaN</td>\n",
       "      <td>LONDON</td>\n",
       "      <td>LEWISHAM</td>\n",
       "      <td>GREATER LONDON</td>\n",
       "      <td>A</td>\n",
       "      <td>A</td>\n",
       "      <td>2025</td>\n",
       "    </tr>\n",
       "    <tr>\n",
       "      <th>484120</th>\n",
       "      <td>{38EDC0C3-613F-0F63-E063-4704A8C00424}</td>\n",
       "      <td>685000</td>\n",
       "      <td>2025-05-22</td>\n",
       "      <td>SW4 8BQ</td>\n",
       "      <td>F</td>\n",
       "      <td>N</td>\n",
       "      <td>L</td>\n",
       "      <td>36</td>\n",
       "      <td>FLAT 2</td>\n",
       "      <td>KINGS AVENUE</td>\n",
       "      <td>NaN</td>\n",
       "      <td>LONDON</td>\n",
       "      <td>LAMBETH</td>\n",
       "      <td>GREATER LONDON</td>\n",
       "      <td>A</td>\n",
       "      <td>A</td>\n",
       "      <td>2025</td>\n",
       "    </tr>\n",
       "    <tr>\n",
       "      <th>484121</th>\n",
       "      <td>{38EDC0C3-6140-0F63-E063-4704A8C00424}</td>\n",
       "      <td>385270</td>\n",
       "      <td>2025-05-30</td>\n",
       "      <td>SE6 1AY</td>\n",
       "      <td>F</td>\n",
       "      <td>N</td>\n",
       "      <td>L</td>\n",
       "      <td>344</td>\n",
       "      <td>FLAT A</td>\n",
       "      <td>BROWNHILL ROAD</td>\n",
       "      <td>NaN</td>\n",
       "      <td>LONDON</td>\n",
       "      <td>LEWISHAM</td>\n",
       "      <td>GREATER LONDON</td>\n",
       "      <td>A</td>\n",
       "      <td>A</td>\n",
       "      <td>2025</td>\n",
       "    </tr>\n",
       "  </tbody>\n",
       "</table>\n",
       "<p>484122 rows × 17 columns</p>\n",
       "</div>"
      ],
      "text/plain": [
       "                                transaction_id    price transfer_date  \\\n",
       "0       {75050A85-94A5-9A88-E053-6B04A8C02390}   545000    2018-08-24   \n",
       "1       {75050A85-94A9-9A88-E053-6B04A8C02390}   480000    2018-07-06   \n",
       "2       {75050A85-94AD-9A88-E053-6B04A8C02390}   415000    2018-08-13   \n",
       "3       {75050A85-94AE-9A88-E053-6B04A8C02390}  2765000    2018-07-18   \n",
       "4       {75050A85-94B2-9A88-E053-6B04A8C02390}   750000    2018-08-07   \n",
       "...                                        ...      ...           ...   \n",
       "484117  {38EDC0C3-613C-0F63-E063-4704A8C00424}   446000    2025-05-02   \n",
       "484118  {38EDC0C3-613D-0F63-E063-4704A8C00424}   380000    2025-05-16   \n",
       "484119  {38EDC0C3-613E-0F63-E063-4704A8C00424}   500000    2025-03-31   \n",
       "484120  {38EDC0C3-613F-0F63-E063-4704A8C00424}   685000    2025-05-22   \n",
       "484121  {38EDC0C3-6140-0F63-E063-4704A8C00424}   385270    2025-05-30   \n",
       "\n",
       "        postcode property_type old_new duration              paon     saon  \\\n",
       "0       SW17 0PS             T       N        F               137      NaN   \n",
       "1        SW2 3TP             F       N        L                64      NaN   \n",
       "2       SW14 7LR             F       N        L  HUNTINGDON COURT  FLAT 12   \n",
       "3       SW15 6AL             D       N        F                57      NaN   \n",
       "4       SW17 0NP             T       N        F               694      NaN   \n",
       "...          ...           ...     ...      ...               ...      ...   \n",
       "484117  SW12 8NY             F       N        L                56   FLAT 1   \n",
       "484118   E15 2GB             F       N        L   OPAL COURT, 172       76   \n",
       "484119  SE23 1BF             S       N        F                 4      NaN   \n",
       "484120   SW4 8BQ             F       N        L                36   FLAT 2   \n",
       "484121   SE6 1AY             F       N        L               344   FLAT A   \n",
       "\n",
       "                    street   locality    town              district  \\\n",
       "0          STRATHDON DRIVE        NaN  LONDON            WANDSWORTH   \n",
       "1          WYATT PARK ROAD        NaN  LONDON               LAMBETH   \n",
       "2       LITTLE ST LEONARDS        NaN  LONDON  RICHMOND UPON THAMES   \n",
       "3          ST JOHNS AVENUE        NaN  LONDON            WANDSWORTH   \n",
       "4             GARRATT LANE        NaN  LONDON            WANDSWORTH   \n",
       "...                    ...        ...     ...                   ...   \n",
       "484117    NIGHTINGALE LANE        NaN  LONDON            WANDSWORTH   \n",
       "484118         HIGH STREET  STRATFORD  LONDON                NEWHAM   \n",
       "484119      BEAUMARIS MEWS        NaN  LONDON              LEWISHAM   \n",
       "484120        KINGS AVENUE        NaN  LONDON               LAMBETH   \n",
       "484121      BROWNHILL ROAD        NaN  LONDON              LEWISHAM   \n",
       "\n",
       "                county ppd_category record_status  year  \n",
       "0       GREATER LONDON            A             A  2018  \n",
       "1       GREATER LONDON            A             A  2018  \n",
       "2       GREATER LONDON            A             A  2018  \n",
       "3       GREATER LONDON            A             A  2018  \n",
       "4       GREATER LONDON            A             A  2018  \n",
       "...                ...          ...           ...   ...  \n",
       "484117  GREATER LONDON            A             A  2025  \n",
       "484118  GREATER LONDON            A             A  2025  \n",
       "484119  GREATER LONDON            A             A  2025  \n",
       "484120  GREATER LONDON            A             A  2025  \n",
       "484121  GREATER LONDON            A             A  2025  \n",
       "\n",
       "[484122 rows x 17 columns]"
      ]
     },
     "execution_count": 4,
     "metadata": {},
     "output_type": "execute_result"
    }
   ],
   "source": [
    "london_df"
   ]
  },
  {
   "cell_type": "code",
   "execution_count": 5,
   "id": "c872b54f",
   "metadata": {},
   "outputs": [
    {
     "name": "stdout",
     "output_type": "stream",
     "text": [
      "There are 72997 unique postcodes in the dataset\n"
     ]
    }
   ],
   "source": [
    "print(f'There are {len(london_df['postcode'].unique())} unique postcodes in the dataset')"
   ]
  },
  {
   "cell_type": "markdown",
   "id": "8fb967c8",
   "metadata": {},
   "source": [
    "## 3) Exploratory Data Analysis"
   ]
  },
  {
   "cell_type": "markdown",
   "id": "8428ed9e",
   "metadata": {},
   "source": [
    "### 3.1) Transaction volume per month"
   ]
  },
  {
   "cell_type": "code",
   "execution_count": 6,
   "id": "5b5c066d",
   "metadata": {},
   "outputs": [
    {
     "data": {
      "application/vnd.plotly.v1+json": {
       "config": {
        "plotlyServerURL": "https://plot.ly"
       },
       "data": [
        {
         "hovertemplate": "Month-Year=%{x}<br>Number of Transactions=%{y}<extra></extra>",
         "legendgroup": "",
         "line": {
          "color": "#636efa",
          "dash": "solid"
         },
         "marker": {
          "symbol": "circle"
         },
         "mode": "lines",
         "name": "",
         "orientation": "v",
         "showlegend": false,
         "type": "scatter",
         "x": [
          "2018-01-01T00:00:00.000000000",
          "2018-02-01T00:00:00.000000000",
          "2018-03-01T00:00:00.000000000",
          "2018-04-01T00:00:00.000000000",
          "2018-05-01T00:00:00.000000000",
          "2018-06-01T00:00:00.000000000",
          "2018-07-01T00:00:00.000000000",
          "2018-08-01T00:00:00.000000000",
          "2018-09-01T00:00:00.000000000",
          "2018-10-01T00:00:00.000000000",
          "2018-11-01T00:00:00.000000000",
          "2018-12-01T00:00:00.000000000",
          "2019-01-01T00:00:00.000000000",
          "2019-02-01T00:00:00.000000000",
          "2019-03-01T00:00:00.000000000",
          "2019-04-01T00:00:00.000000000",
          "2019-05-01T00:00:00.000000000",
          "2019-06-01T00:00:00.000000000",
          "2019-07-01T00:00:00.000000000",
          "2019-08-01T00:00:00.000000000",
          "2019-09-01T00:00:00.000000000",
          "2019-10-01T00:00:00.000000000",
          "2019-11-01T00:00:00.000000000",
          "2019-12-01T00:00:00.000000000",
          "2020-01-01T00:00:00.000000000",
          "2020-02-01T00:00:00.000000000",
          "2020-03-01T00:00:00.000000000",
          "2020-04-01T00:00:00.000000000",
          "2020-05-01T00:00:00.000000000",
          "2020-06-01T00:00:00.000000000",
          "2020-07-01T00:00:00.000000000",
          "2020-08-01T00:00:00.000000000",
          "2020-09-01T00:00:00.000000000",
          "2020-10-01T00:00:00.000000000",
          "2020-11-01T00:00:00.000000000",
          "2020-12-01T00:00:00.000000000",
          "2021-01-01T00:00:00.000000000",
          "2021-02-01T00:00:00.000000000",
          "2021-03-01T00:00:00.000000000",
          "2021-04-01T00:00:00.000000000",
          "2021-05-01T00:00:00.000000000",
          "2021-06-01T00:00:00.000000000",
          "2021-07-01T00:00:00.000000000",
          "2021-08-01T00:00:00.000000000",
          "2021-09-01T00:00:00.000000000",
          "2021-10-01T00:00:00.000000000",
          "2021-11-01T00:00:00.000000000",
          "2021-12-01T00:00:00.000000000",
          "2022-01-01T00:00:00.000000000",
          "2022-02-01T00:00:00.000000000",
          "2022-03-01T00:00:00.000000000",
          "2022-04-01T00:00:00.000000000",
          "2022-05-01T00:00:00.000000000",
          "2022-06-01T00:00:00.000000000",
          "2022-07-01T00:00:00.000000000",
          "2022-08-01T00:00:00.000000000",
          "2022-09-01T00:00:00.000000000",
          "2022-10-01T00:00:00.000000000",
          "2022-11-01T00:00:00.000000000",
          "2022-12-01T00:00:00.000000000",
          "2023-01-01T00:00:00.000000000",
          "2023-02-01T00:00:00.000000000",
          "2023-03-01T00:00:00.000000000",
          "2023-04-01T00:00:00.000000000",
          "2023-05-01T00:00:00.000000000",
          "2023-06-01T00:00:00.000000000",
          "2023-07-01T00:00:00.000000000",
          "2023-08-01T00:00:00.000000000",
          "2023-09-01T00:00:00.000000000",
          "2023-10-01T00:00:00.000000000",
          "2023-11-01T00:00:00.000000000",
          "2023-12-01T00:00:00.000000000",
          "2024-01-01T00:00:00.000000000",
          "2024-02-01T00:00:00.000000000",
          "2024-03-01T00:00:00.000000000",
          "2024-04-01T00:00:00.000000000",
          "2024-05-01T00:00:00.000000000",
          "2024-06-01T00:00:00.000000000",
          "2024-07-01T00:00:00.000000000",
          "2024-08-01T00:00:00.000000000",
          "2024-09-01T00:00:00.000000000",
          "2024-10-01T00:00:00.000000000",
          "2024-11-01T00:00:00.000000000",
          "2024-12-01T00:00:00.000000000",
          "2025-01-01T00:00:00.000000000",
          "2025-02-01T00:00:00.000000000",
          "2025-03-01T00:00:00.000000000",
          "2025-04-01T00:00:00.000000000",
          "2025-05-01T00:00:00.000000000",
          "2025-06-01T00:00:00.000000000"
         ],
         "xaxis": "x",
         "y": {
          "bdata": "4BOKEvMVIhOUFJAYShjlGEkWqhY3F0YUZhKNEJIUgxKTE5UWnxlNGNsVnBWzFV8VkROPEqAWNwtdCTgNqhKAEqsXshgKGMsctRXxGbMukhgkFXhJJgo2EeghFw+9EzgXKRIZFTAaZxaLFgMZEBsoGzgb9BmKGiIYQBLlEOgVPA6WD4kTdBTXFV4XZhR9EwcSRA8vEfsSLhJ+FJESRxUeFmoSLxUJEcIOVA08C1cYGwQHB4UD",
          "dtype": "i2"
         },
         "yaxis": "y"
        }
       ],
       "layout": {
        "legend": {
         "tracegroupgap": 0
        },
        "template": {
         "data": {
          "bar": [
           {
            "error_x": {
             "color": "#2a3f5f"
            },
            "error_y": {
             "color": "#2a3f5f"
            },
            "marker": {
             "line": {
              "color": "#E5ECF6",
              "width": 0.5
             },
             "pattern": {
              "fillmode": "overlay",
              "size": 10,
              "solidity": 0.2
             }
            },
            "type": "bar"
           }
          ],
          "barpolar": [
           {
            "marker": {
             "line": {
              "color": "#E5ECF6",
              "width": 0.5
             },
             "pattern": {
              "fillmode": "overlay",
              "size": 10,
              "solidity": 0.2
             }
            },
            "type": "barpolar"
           }
          ],
          "carpet": [
           {
            "aaxis": {
             "endlinecolor": "#2a3f5f",
             "gridcolor": "white",
             "linecolor": "white",
             "minorgridcolor": "white",
             "startlinecolor": "#2a3f5f"
            },
            "baxis": {
             "endlinecolor": "#2a3f5f",
             "gridcolor": "white",
             "linecolor": "white",
             "minorgridcolor": "white",
             "startlinecolor": "#2a3f5f"
            },
            "type": "carpet"
           }
          ],
          "choropleth": [
           {
            "colorbar": {
             "outlinewidth": 0,
             "ticks": ""
            },
            "type": "choropleth"
           }
          ],
          "contour": [
           {
            "colorbar": {
             "outlinewidth": 0,
             "ticks": ""
            },
            "colorscale": [
             [
              0,
              "#0d0887"
             ],
             [
              0.1111111111111111,
              "#46039f"
             ],
             [
              0.2222222222222222,
              "#7201a8"
             ],
             [
              0.3333333333333333,
              "#9c179e"
             ],
             [
              0.4444444444444444,
              "#bd3786"
             ],
             [
              0.5555555555555556,
              "#d8576b"
             ],
             [
              0.6666666666666666,
              "#ed7953"
             ],
             [
              0.7777777777777778,
              "#fb9f3a"
             ],
             [
              0.8888888888888888,
              "#fdca26"
             ],
             [
              1,
              "#f0f921"
             ]
            ],
            "type": "contour"
           }
          ],
          "contourcarpet": [
           {
            "colorbar": {
             "outlinewidth": 0,
             "ticks": ""
            },
            "type": "contourcarpet"
           }
          ],
          "heatmap": [
           {
            "colorbar": {
             "outlinewidth": 0,
             "ticks": ""
            },
            "colorscale": [
             [
              0,
              "#0d0887"
             ],
             [
              0.1111111111111111,
              "#46039f"
             ],
             [
              0.2222222222222222,
              "#7201a8"
             ],
             [
              0.3333333333333333,
              "#9c179e"
             ],
             [
              0.4444444444444444,
              "#bd3786"
             ],
             [
              0.5555555555555556,
              "#d8576b"
             ],
             [
              0.6666666666666666,
              "#ed7953"
             ],
             [
              0.7777777777777778,
              "#fb9f3a"
             ],
             [
              0.8888888888888888,
              "#fdca26"
             ],
             [
              1,
              "#f0f921"
             ]
            ],
            "type": "heatmap"
           }
          ],
          "histogram": [
           {
            "marker": {
             "pattern": {
              "fillmode": "overlay",
              "size": 10,
              "solidity": 0.2
             }
            },
            "type": "histogram"
           }
          ],
          "histogram2d": [
           {
            "colorbar": {
             "outlinewidth": 0,
             "ticks": ""
            },
            "colorscale": [
             [
              0,
              "#0d0887"
             ],
             [
              0.1111111111111111,
              "#46039f"
             ],
             [
              0.2222222222222222,
              "#7201a8"
             ],
             [
              0.3333333333333333,
              "#9c179e"
             ],
             [
              0.4444444444444444,
              "#bd3786"
             ],
             [
              0.5555555555555556,
              "#d8576b"
             ],
             [
              0.6666666666666666,
              "#ed7953"
             ],
             [
              0.7777777777777778,
              "#fb9f3a"
             ],
             [
              0.8888888888888888,
              "#fdca26"
             ],
             [
              1,
              "#f0f921"
             ]
            ],
            "type": "histogram2d"
           }
          ],
          "histogram2dcontour": [
           {
            "colorbar": {
             "outlinewidth": 0,
             "ticks": ""
            },
            "colorscale": [
             [
              0,
              "#0d0887"
             ],
             [
              0.1111111111111111,
              "#46039f"
             ],
             [
              0.2222222222222222,
              "#7201a8"
             ],
             [
              0.3333333333333333,
              "#9c179e"
             ],
             [
              0.4444444444444444,
              "#bd3786"
             ],
             [
              0.5555555555555556,
              "#d8576b"
             ],
             [
              0.6666666666666666,
              "#ed7953"
             ],
             [
              0.7777777777777778,
              "#fb9f3a"
             ],
             [
              0.8888888888888888,
              "#fdca26"
             ],
             [
              1,
              "#f0f921"
             ]
            ],
            "type": "histogram2dcontour"
           }
          ],
          "mesh3d": [
           {
            "colorbar": {
             "outlinewidth": 0,
             "ticks": ""
            },
            "type": "mesh3d"
           }
          ],
          "parcoords": [
           {
            "line": {
             "colorbar": {
              "outlinewidth": 0,
              "ticks": ""
             }
            },
            "type": "parcoords"
           }
          ],
          "pie": [
           {
            "automargin": true,
            "type": "pie"
           }
          ],
          "scatter": [
           {
            "fillpattern": {
             "fillmode": "overlay",
             "size": 10,
             "solidity": 0.2
            },
            "type": "scatter"
           }
          ],
          "scatter3d": [
           {
            "line": {
             "colorbar": {
              "outlinewidth": 0,
              "ticks": ""
             }
            },
            "marker": {
             "colorbar": {
              "outlinewidth": 0,
              "ticks": ""
             }
            },
            "type": "scatter3d"
           }
          ],
          "scattercarpet": [
           {
            "marker": {
             "colorbar": {
              "outlinewidth": 0,
              "ticks": ""
             }
            },
            "type": "scattercarpet"
           }
          ],
          "scattergeo": [
           {
            "marker": {
             "colorbar": {
              "outlinewidth": 0,
              "ticks": ""
             }
            },
            "type": "scattergeo"
           }
          ],
          "scattergl": [
           {
            "marker": {
             "colorbar": {
              "outlinewidth": 0,
              "ticks": ""
             }
            },
            "type": "scattergl"
           }
          ],
          "scattermap": [
           {
            "marker": {
             "colorbar": {
              "outlinewidth": 0,
              "ticks": ""
             }
            },
            "type": "scattermap"
           }
          ],
          "scattermapbox": [
           {
            "marker": {
             "colorbar": {
              "outlinewidth": 0,
              "ticks": ""
             }
            },
            "type": "scattermapbox"
           }
          ],
          "scatterpolar": [
           {
            "marker": {
             "colorbar": {
              "outlinewidth": 0,
              "ticks": ""
             }
            },
            "type": "scatterpolar"
           }
          ],
          "scatterpolargl": [
           {
            "marker": {
             "colorbar": {
              "outlinewidth": 0,
              "ticks": ""
             }
            },
            "type": "scatterpolargl"
           }
          ],
          "scatterternary": [
           {
            "marker": {
             "colorbar": {
              "outlinewidth": 0,
              "ticks": ""
             }
            },
            "type": "scatterternary"
           }
          ],
          "surface": [
           {
            "colorbar": {
             "outlinewidth": 0,
             "ticks": ""
            },
            "colorscale": [
             [
              0,
              "#0d0887"
             ],
             [
              0.1111111111111111,
              "#46039f"
             ],
             [
              0.2222222222222222,
              "#7201a8"
             ],
             [
              0.3333333333333333,
              "#9c179e"
             ],
             [
              0.4444444444444444,
              "#bd3786"
             ],
             [
              0.5555555555555556,
              "#d8576b"
             ],
             [
              0.6666666666666666,
              "#ed7953"
             ],
             [
              0.7777777777777778,
              "#fb9f3a"
             ],
             [
              0.8888888888888888,
              "#fdca26"
             ],
             [
              1,
              "#f0f921"
             ]
            ],
            "type": "surface"
           }
          ],
          "table": [
           {
            "cells": {
             "fill": {
              "color": "#EBF0F8"
             },
             "line": {
              "color": "white"
             }
            },
            "header": {
             "fill": {
              "color": "#C8D4E3"
             },
             "line": {
              "color": "white"
             }
            },
            "type": "table"
           }
          ]
         },
         "layout": {
          "annotationdefaults": {
           "arrowcolor": "#2a3f5f",
           "arrowhead": 0,
           "arrowwidth": 1
          },
          "autotypenumbers": "strict",
          "coloraxis": {
           "colorbar": {
            "outlinewidth": 0,
            "ticks": ""
           }
          },
          "colorscale": {
           "diverging": [
            [
             0,
             "#8e0152"
            ],
            [
             0.1,
             "#c51b7d"
            ],
            [
             0.2,
             "#de77ae"
            ],
            [
             0.3,
             "#f1b6da"
            ],
            [
             0.4,
             "#fde0ef"
            ],
            [
             0.5,
             "#f7f7f7"
            ],
            [
             0.6,
             "#e6f5d0"
            ],
            [
             0.7,
             "#b8e186"
            ],
            [
             0.8,
             "#7fbc41"
            ],
            [
             0.9,
             "#4d9221"
            ],
            [
             1,
             "#276419"
            ]
           ],
           "sequential": [
            [
             0,
             "#0d0887"
            ],
            [
             0.1111111111111111,
             "#46039f"
            ],
            [
             0.2222222222222222,
             "#7201a8"
            ],
            [
             0.3333333333333333,
             "#9c179e"
            ],
            [
             0.4444444444444444,
             "#bd3786"
            ],
            [
             0.5555555555555556,
             "#d8576b"
            ],
            [
             0.6666666666666666,
             "#ed7953"
            ],
            [
             0.7777777777777778,
             "#fb9f3a"
            ],
            [
             0.8888888888888888,
             "#fdca26"
            ],
            [
             1,
             "#f0f921"
            ]
           ],
           "sequentialminus": [
            [
             0,
             "#0d0887"
            ],
            [
             0.1111111111111111,
             "#46039f"
            ],
            [
             0.2222222222222222,
             "#7201a8"
            ],
            [
             0.3333333333333333,
             "#9c179e"
            ],
            [
             0.4444444444444444,
             "#bd3786"
            ],
            [
             0.5555555555555556,
             "#d8576b"
            ],
            [
             0.6666666666666666,
             "#ed7953"
            ],
            [
             0.7777777777777778,
             "#fb9f3a"
            ],
            [
             0.8888888888888888,
             "#fdca26"
            ],
            [
             1,
             "#f0f921"
            ]
           ]
          },
          "colorway": [
           "#636efa",
           "#EF553B",
           "#00cc96",
           "#ab63fa",
           "#FFA15A",
           "#19d3f3",
           "#FF6692",
           "#B6E880",
           "#FF97FF",
           "#FECB52"
          ],
          "font": {
           "color": "#2a3f5f"
          },
          "geo": {
           "bgcolor": "white",
           "lakecolor": "white",
           "landcolor": "#E5ECF6",
           "showlakes": true,
           "showland": true,
           "subunitcolor": "white"
          },
          "hoverlabel": {
           "align": "left"
          },
          "hovermode": "closest",
          "mapbox": {
           "style": "light"
          },
          "paper_bgcolor": "white",
          "plot_bgcolor": "#E5ECF6",
          "polar": {
           "angularaxis": {
            "gridcolor": "white",
            "linecolor": "white",
            "ticks": ""
           },
           "bgcolor": "#E5ECF6",
           "radialaxis": {
            "gridcolor": "white",
            "linecolor": "white",
            "ticks": ""
           }
          },
          "scene": {
           "xaxis": {
            "backgroundcolor": "#E5ECF6",
            "gridcolor": "white",
            "gridwidth": 2,
            "linecolor": "white",
            "showbackground": true,
            "ticks": "",
            "zerolinecolor": "white"
           },
           "yaxis": {
            "backgroundcolor": "#E5ECF6",
            "gridcolor": "white",
            "gridwidth": 2,
            "linecolor": "white",
            "showbackground": true,
            "ticks": "",
            "zerolinecolor": "white"
           },
           "zaxis": {
            "backgroundcolor": "#E5ECF6",
            "gridcolor": "white",
            "gridwidth": 2,
            "linecolor": "white",
            "showbackground": true,
            "ticks": "",
            "zerolinecolor": "white"
           }
          },
          "shapedefaults": {
           "line": {
            "color": "#2a3f5f"
           }
          },
          "ternary": {
           "aaxis": {
            "gridcolor": "white",
            "linecolor": "white",
            "ticks": ""
           },
           "baxis": {
            "gridcolor": "white",
            "linecolor": "white",
            "ticks": ""
           },
           "bgcolor": "#E5ECF6",
           "caxis": {
            "gridcolor": "white",
            "linecolor": "white",
            "ticks": ""
           }
          },
          "title": {
           "x": 0.05
          },
          "xaxis": {
           "automargin": true,
           "gridcolor": "white",
           "linecolor": "white",
           "ticks": "",
           "title": {
            "standoff": 15
           },
           "zerolinecolor": "white",
           "zerolinewidth": 2
          },
          "yaxis": {
           "automargin": true,
           "gridcolor": "white",
           "linecolor": "white",
           "ticks": "",
           "title": {
            "standoff": 15
           },
           "zerolinecolor": "white",
           "zerolinewidth": 2
          }
         }
        },
        "title": {
         "text": "Monthly Transaction Volume in London",
         "x": 0.5
        },
        "xaxis": {
         "anchor": "y",
         "domain": [
          0,
          1
         ],
         "tickformat": "%b %Y",
         "title": {
          "text": "Month-Year"
         }
        },
        "yaxis": {
         "anchor": "x",
         "domain": [
          0,
          1
         ],
         "title": {
          "text": "Number of Transactions"
         }
        }
       }
      }
     },
     "metadata": {},
     "output_type": "display_data"
    }
   ],
   "source": [
    "import plotly.express as px\n",
    "\n",
    "# Ensure the transfer_date is in datetime format\n",
    "london_df['transfer_date'] = pd.to_datetime(london_df['transfer_date'], errors='coerce')\n",
    "\n",
    "# Create a new column for month-year (use first day of month for consistency)\n",
    "london_df['month_year'] = london_df['transfer_date'].dt.to_period('M').dt.to_timestamp()\n",
    "\n",
    "# Aggregate by month-year and count the number of transactions\n",
    "monthly_counts = london_df.groupby('month_year').size().reset_index(name='transaction_count')\n",
    "\n",
    "# Plot with Plotly Express\n",
    "fig = px.line(\n",
    "    monthly_counts,\n",
    "    x='month_year',\n",
    "    y='transaction_count',\n",
    "    title='Monthly Transaction Volume in London',\n",
    "    labels={'month_year': 'Month-Year', 'transaction_count': 'Number of Transactions'}\n",
    ")\n",
    "\n",
    "# Customize layout\n",
    "fig.update_layout(xaxis=dict(tickformat='%b %Y'), title_x=0.5)\n",
    "\n",
    "fig.show()\n"
   ]
  },
  {
   "cell_type": "markdown",
   "id": "207c6666",
   "metadata": {},
   "source": [
    "### 3.2) MoM % change in transactions"
   ]
  },
  {
   "cell_type": "code",
   "execution_count": 7,
   "id": "8f90b418",
   "metadata": {},
   "outputs": [
    {
     "data": {
      "application/vnd.plotly.v1+json": {
       "config": {
        "plotlyServerURL": "https://plot.ly"
       },
       "data": [
        {
         "hovertemplate": "Month-Year=%{x}<br>MoM % Change=%{y}<extra></extra>",
         "legendgroup": "",
         "line": {
          "color": "#636efa",
          "dash": "solid"
         },
         "marker": {
          "symbol": "circle"
         },
         "mode": "lines+markers",
         "name": "",
         "orientation": "v",
         "showlegend": false,
         "type": "scatter",
         "x": [
          "2018-01-01T00:00:00.000000000",
          "2018-02-01T00:00:00.000000000",
          "2018-03-01T00:00:00.000000000",
          "2018-04-01T00:00:00.000000000",
          "2018-05-01T00:00:00.000000000",
          "2018-06-01T00:00:00.000000000",
          "2018-07-01T00:00:00.000000000",
          "2018-08-01T00:00:00.000000000",
          "2018-09-01T00:00:00.000000000",
          "2018-10-01T00:00:00.000000000",
          "2018-11-01T00:00:00.000000000",
          "2018-12-01T00:00:00.000000000",
          "2019-01-01T00:00:00.000000000",
          "2019-02-01T00:00:00.000000000",
          "2019-03-01T00:00:00.000000000",
          "2019-04-01T00:00:00.000000000",
          "2019-05-01T00:00:00.000000000",
          "2019-06-01T00:00:00.000000000",
          "2019-07-01T00:00:00.000000000",
          "2019-08-01T00:00:00.000000000",
          "2019-09-01T00:00:00.000000000",
          "2019-10-01T00:00:00.000000000",
          "2019-11-01T00:00:00.000000000",
          "2019-12-01T00:00:00.000000000",
          "2020-01-01T00:00:00.000000000",
          "2020-02-01T00:00:00.000000000",
          "2020-03-01T00:00:00.000000000",
          "2020-04-01T00:00:00.000000000",
          "2020-05-01T00:00:00.000000000",
          "2020-06-01T00:00:00.000000000",
          "2020-07-01T00:00:00.000000000",
          "2020-08-01T00:00:00.000000000",
          "2020-09-01T00:00:00.000000000",
          "2020-10-01T00:00:00.000000000",
          "2020-11-01T00:00:00.000000000",
          "2020-12-01T00:00:00.000000000",
          "2021-01-01T00:00:00.000000000",
          "2021-02-01T00:00:00.000000000",
          "2021-03-01T00:00:00.000000000",
          "2021-04-01T00:00:00.000000000",
          "2021-05-01T00:00:00.000000000",
          "2021-06-01T00:00:00.000000000",
          "2021-07-01T00:00:00.000000000",
          "2021-08-01T00:00:00.000000000",
          "2021-09-01T00:00:00.000000000",
          "2021-10-01T00:00:00.000000000",
          "2021-11-01T00:00:00.000000000",
          "2021-12-01T00:00:00.000000000",
          "2022-01-01T00:00:00.000000000",
          "2022-02-01T00:00:00.000000000",
          "2022-03-01T00:00:00.000000000",
          "2022-04-01T00:00:00.000000000",
          "2022-05-01T00:00:00.000000000",
          "2022-06-01T00:00:00.000000000",
          "2022-07-01T00:00:00.000000000",
          "2022-08-01T00:00:00.000000000",
          "2022-09-01T00:00:00.000000000",
          "2022-10-01T00:00:00.000000000",
          "2022-11-01T00:00:00.000000000",
          "2022-12-01T00:00:00.000000000",
          "2023-01-01T00:00:00.000000000",
          "2023-02-01T00:00:00.000000000",
          "2023-03-01T00:00:00.000000000",
          "2023-04-01T00:00:00.000000000",
          "2023-05-01T00:00:00.000000000",
          "2023-06-01T00:00:00.000000000",
          "2023-07-01T00:00:00.000000000",
          "2023-08-01T00:00:00.000000000",
          "2023-09-01T00:00:00.000000000",
          "2023-10-01T00:00:00.000000000",
          "2023-11-01T00:00:00.000000000",
          "2023-12-01T00:00:00.000000000",
          "2024-01-01T00:00:00.000000000",
          "2024-02-01T00:00:00.000000000",
          "2024-03-01T00:00:00.000000000",
          "2024-04-01T00:00:00.000000000",
          "2024-05-01T00:00:00.000000000",
          "2024-06-01T00:00:00.000000000",
          "2024-07-01T00:00:00.000000000",
          "2024-08-01T00:00:00.000000000",
          "2024-09-01T00:00:00.000000000",
          "2024-10-01T00:00:00.000000000",
          "2024-11-01T00:00:00.000000000",
          "2024-12-01T00:00:00.000000000",
          "2025-01-01T00:00:00.000000000",
          "2025-02-01T00:00:00.000000000",
          "2025-03-01T00:00:00.000000000",
          "2025-04-01T00:00:00.000000000",
          "2025-05-01T00:00:00.000000000",
          "2025-06-01T00:00:00.000000000"
         ],
         "xaxis": "x",
         "y": {
          "bdata": "AAAAAAAA+H/RPofUBOMawDF0z9n5ZDJASFHYvLWpKcBY2uf2ZjceQCUr+kW4XDNA5KJW48vP8b/wyxezLfEDQLb9xPij9iTAALUy5kY0+z8mFKzaCnEDQJcKRoo6VynA9rjvlkJ/IsA9O6WwvRUkwAQp/ao6SThAgdUMnOMDJMBv9PGrW/UWQI+1KtR9uy5AVl97Jm/qKkAkNkvn5pwUwMPCDwUZICTAssfJMh4E8r/w5y2425vaP2zb+HjFMfi/PhO73pjjIMApUQyfWJoUwHDVid5C6TVAuwx7pT83ScDBhfyQioIwwJiWlpaWlkRA8INqMNCYREBYosEtASHsv3ODKfJZ7ztAFf3LbNNcEUBvd4UQVEIFwDLuXeuXxjNAFl8qNCacOMBks+ILxoEzQDC6Qg0oAVRA0HFPdmmxR8D8iVkU1uorwHBMDMfE8G5AA1FoXvOLVcBNFCM642VRQMN2Ju9CQFhAo/3R/mi/S8A5eKZQGc4+QH/8KCMSojFAnlofk2PJNcCmIBf87iwwQJTrBp4KIDhAPqkZMnroLMBI/xiwURbkP/QsgeAR5yVAMaBzPAhmIEBQndYlwCvWP8CtqcCKdc0/Yu5jdGyZEsDsPoh8uA8CQGnSOLY2IiLAB4LvVndgOMBYr169erUdwKbQn2Qsqj1AETp1K72CQcDBBKGNeP0iQGx1p9WdVjlAvu8Ub9bLEkBoEZNQtB4bQArVZTA5+RtAYvh2DtloKcCrLRo3+tgRwNIxGXlo/B3AxcDr6qOjLsB8kgHawCApQCDgG6/x6SRArgMOAjvgEMAogAViw3ApQA2c//uWyyLAp3rrLN4zLUBwaB4/t5MPQFcVrF9CvjDAskZB66IULkBQE0lMUJUzwMY56CyrvCrAOkv1rhVgI8BycW5QJGsvwCK+9sXsKV1Aj9Wein7IVMC1taJs5spRQJ2HwdBT9UjA",
          "dtype": "f8"
         },
         "yaxis": "y"
        }
       ],
       "layout": {
        "legend": {
         "tracegroupgap": 0
        },
        "shapes": [
         {
          "line": {
           "color": "gray",
           "dash": "dash"
          },
          "type": "line",
          "x0": 0,
          "x1": 1,
          "xref": "x domain",
          "y0": 0,
          "y1": 0,
          "yref": "y"
         }
        ],
        "template": {
         "data": {
          "bar": [
           {
            "error_x": {
             "color": "#2a3f5f"
            },
            "error_y": {
             "color": "#2a3f5f"
            },
            "marker": {
             "line": {
              "color": "#E5ECF6",
              "width": 0.5
             },
             "pattern": {
              "fillmode": "overlay",
              "size": 10,
              "solidity": 0.2
             }
            },
            "type": "bar"
           }
          ],
          "barpolar": [
           {
            "marker": {
             "line": {
              "color": "#E5ECF6",
              "width": 0.5
             },
             "pattern": {
              "fillmode": "overlay",
              "size": 10,
              "solidity": 0.2
             }
            },
            "type": "barpolar"
           }
          ],
          "carpet": [
           {
            "aaxis": {
             "endlinecolor": "#2a3f5f",
             "gridcolor": "white",
             "linecolor": "white",
             "minorgridcolor": "white",
             "startlinecolor": "#2a3f5f"
            },
            "baxis": {
             "endlinecolor": "#2a3f5f",
             "gridcolor": "white",
             "linecolor": "white",
             "minorgridcolor": "white",
             "startlinecolor": "#2a3f5f"
            },
            "type": "carpet"
           }
          ],
          "choropleth": [
           {
            "colorbar": {
             "outlinewidth": 0,
             "ticks": ""
            },
            "type": "choropleth"
           }
          ],
          "contour": [
           {
            "colorbar": {
             "outlinewidth": 0,
             "ticks": ""
            },
            "colorscale": [
             [
              0,
              "#0d0887"
             ],
             [
              0.1111111111111111,
              "#46039f"
             ],
             [
              0.2222222222222222,
              "#7201a8"
             ],
             [
              0.3333333333333333,
              "#9c179e"
             ],
             [
              0.4444444444444444,
              "#bd3786"
             ],
             [
              0.5555555555555556,
              "#d8576b"
             ],
             [
              0.6666666666666666,
              "#ed7953"
             ],
             [
              0.7777777777777778,
              "#fb9f3a"
             ],
             [
              0.8888888888888888,
              "#fdca26"
             ],
             [
              1,
              "#f0f921"
             ]
            ],
            "type": "contour"
           }
          ],
          "contourcarpet": [
           {
            "colorbar": {
             "outlinewidth": 0,
             "ticks": ""
            },
            "type": "contourcarpet"
           }
          ],
          "heatmap": [
           {
            "colorbar": {
             "outlinewidth": 0,
             "ticks": ""
            },
            "colorscale": [
             [
              0,
              "#0d0887"
             ],
             [
              0.1111111111111111,
              "#46039f"
             ],
             [
              0.2222222222222222,
              "#7201a8"
             ],
             [
              0.3333333333333333,
              "#9c179e"
             ],
             [
              0.4444444444444444,
              "#bd3786"
             ],
             [
              0.5555555555555556,
              "#d8576b"
             ],
             [
              0.6666666666666666,
              "#ed7953"
             ],
             [
              0.7777777777777778,
              "#fb9f3a"
             ],
             [
              0.8888888888888888,
              "#fdca26"
             ],
             [
              1,
              "#f0f921"
             ]
            ],
            "type": "heatmap"
           }
          ],
          "histogram": [
           {
            "marker": {
             "pattern": {
              "fillmode": "overlay",
              "size": 10,
              "solidity": 0.2
             }
            },
            "type": "histogram"
           }
          ],
          "histogram2d": [
           {
            "colorbar": {
             "outlinewidth": 0,
             "ticks": ""
            },
            "colorscale": [
             [
              0,
              "#0d0887"
             ],
             [
              0.1111111111111111,
              "#46039f"
             ],
             [
              0.2222222222222222,
              "#7201a8"
             ],
             [
              0.3333333333333333,
              "#9c179e"
             ],
             [
              0.4444444444444444,
              "#bd3786"
             ],
             [
              0.5555555555555556,
              "#d8576b"
             ],
             [
              0.6666666666666666,
              "#ed7953"
             ],
             [
              0.7777777777777778,
              "#fb9f3a"
             ],
             [
              0.8888888888888888,
              "#fdca26"
             ],
             [
              1,
              "#f0f921"
             ]
            ],
            "type": "histogram2d"
           }
          ],
          "histogram2dcontour": [
           {
            "colorbar": {
             "outlinewidth": 0,
             "ticks": ""
            },
            "colorscale": [
             [
              0,
              "#0d0887"
             ],
             [
              0.1111111111111111,
              "#46039f"
             ],
             [
              0.2222222222222222,
              "#7201a8"
             ],
             [
              0.3333333333333333,
              "#9c179e"
             ],
             [
              0.4444444444444444,
              "#bd3786"
             ],
             [
              0.5555555555555556,
              "#d8576b"
             ],
             [
              0.6666666666666666,
              "#ed7953"
             ],
             [
              0.7777777777777778,
              "#fb9f3a"
             ],
             [
              0.8888888888888888,
              "#fdca26"
             ],
             [
              1,
              "#f0f921"
             ]
            ],
            "type": "histogram2dcontour"
           }
          ],
          "mesh3d": [
           {
            "colorbar": {
             "outlinewidth": 0,
             "ticks": ""
            },
            "type": "mesh3d"
           }
          ],
          "parcoords": [
           {
            "line": {
             "colorbar": {
              "outlinewidth": 0,
              "ticks": ""
             }
            },
            "type": "parcoords"
           }
          ],
          "pie": [
           {
            "automargin": true,
            "type": "pie"
           }
          ],
          "scatter": [
           {
            "fillpattern": {
             "fillmode": "overlay",
             "size": 10,
             "solidity": 0.2
            },
            "type": "scatter"
           }
          ],
          "scatter3d": [
           {
            "line": {
             "colorbar": {
              "outlinewidth": 0,
              "ticks": ""
             }
            },
            "marker": {
             "colorbar": {
              "outlinewidth": 0,
              "ticks": ""
             }
            },
            "type": "scatter3d"
           }
          ],
          "scattercarpet": [
           {
            "marker": {
             "colorbar": {
              "outlinewidth": 0,
              "ticks": ""
             }
            },
            "type": "scattercarpet"
           }
          ],
          "scattergeo": [
           {
            "marker": {
             "colorbar": {
              "outlinewidth": 0,
              "ticks": ""
             }
            },
            "type": "scattergeo"
           }
          ],
          "scattergl": [
           {
            "marker": {
             "colorbar": {
              "outlinewidth": 0,
              "ticks": ""
             }
            },
            "type": "scattergl"
           }
          ],
          "scattermap": [
           {
            "marker": {
             "colorbar": {
              "outlinewidth": 0,
              "ticks": ""
             }
            },
            "type": "scattermap"
           }
          ],
          "scattermapbox": [
           {
            "marker": {
             "colorbar": {
              "outlinewidth": 0,
              "ticks": ""
             }
            },
            "type": "scattermapbox"
           }
          ],
          "scatterpolar": [
           {
            "marker": {
             "colorbar": {
              "outlinewidth": 0,
              "ticks": ""
             }
            },
            "type": "scatterpolar"
           }
          ],
          "scatterpolargl": [
           {
            "marker": {
             "colorbar": {
              "outlinewidth": 0,
              "ticks": ""
             }
            },
            "type": "scatterpolargl"
           }
          ],
          "scatterternary": [
           {
            "marker": {
             "colorbar": {
              "outlinewidth": 0,
              "ticks": ""
             }
            },
            "type": "scatterternary"
           }
          ],
          "surface": [
           {
            "colorbar": {
             "outlinewidth": 0,
             "ticks": ""
            },
            "colorscale": [
             [
              0,
              "#0d0887"
             ],
             [
              0.1111111111111111,
              "#46039f"
             ],
             [
              0.2222222222222222,
              "#7201a8"
             ],
             [
              0.3333333333333333,
              "#9c179e"
             ],
             [
              0.4444444444444444,
              "#bd3786"
             ],
             [
              0.5555555555555556,
              "#d8576b"
             ],
             [
              0.6666666666666666,
              "#ed7953"
             ],
             [
              0.7777777777777778,
              "#fb9f3a"
             ],
             [
              0.8888888888888888,
              "#fdca26"
             ],
             [
              1,
              "#f0f921"
             ]
            ],
            "type": "surface"
           }
          ],
          "table": [
           {
            "cells": {
             "fill": {
              "color": "#EBF0F8"
             },
             "line": {
              "color": "white"
             }
            },
            "header": {
             "fill": {
              "color": "#C8D4E3"
             },
             "line": {
              "color": "white"
             }
            },
            "type": "table"
           }
          ]
         },
         "layout": {
          "annotationdefaults": {
           "arrowcolor": "#2a3f5f",
           "arrowhead": 0,
           "arrowwidth": 1
          },
          "autotypenumbers": "strict",
          "coloraxis": {
           "colorbar": {
            "outlinewidth": 0,
            "ticks": ""
           }
          },
          "colorscale": {
           "diverging": [
            [
             0,
             "#8e0152"
            ],
            [
             0.1,
             "#c51b7d"
            ],
            [
             0.2,
             "#de77ae"
            ],
            [
             0.3,
             "#f1b6da"
            ],
            [
             0.4,
             "#fde0ef"
            ],
            [
             0.5,
             "#f7f7f7"
            ],
            [
             0.6,
             "#e6f5d0"
            ],
            [
             0.7,
             "#b8e186"
            ],
            [
             0.8,
             "#7fbc41"
            ],
            [
             0.9,
             "#4d9221"
            ],
            [
             1,
             "#276419"
            ]
           ],
           "sequential": [
            [
             0,
             "#0d0887"
            ],
            [
             0.1111111111111111,
             "#46039f"
            ],
            [
             0.2222222222222222,
             "#7201a8"
            ],
            [
             0.3333333333333333,
             "#9c179e"
            ],
            [
             0.4444444444444444,
             "#bd3786"
            ],
            [
             0.5555555555555556,
             "#d8576b"
            ],
            [
             0.6666666666666666,
             "#ed7953"
            ],
            [
             0.7777777777777778,
             "#fb9f3a"
            ],
            [
             0.8888888888888888,
             "#fdca26"
            ],
            [
             1,
             "#f0f921"
            ]
           ],
           "sequentialminus": [
            [
             0,
             "#0d0887"
            ],
            [
             0.1111111111111111,
             "#46039f"
            ],
            [
             0.2222222222222222,
             "#7201a8"
            ],
            [
             0.3333333333333333,
             "#9c179e"
            ],
            [
             0.4444444444444444,
             "#bd3786"
            ],
            [
             0.5555555555555556,
             "#d8576b"
            ],
            [
             0.6666666666666666,
             "#ed7953"
            ],
            [
             0.7777777777777778,
             "#fb9f3a"
            ],
            [
             0.8888888888888888,
             "#fdca26"
            ],
            [
             1,
             "#f0f921"
            ]
           ]
          },
          "colorway": [
           "#636efa",
           "#EF553B",
           "#00cc96",
           "#ab63fa",
           "#FFA15A",
           "#19d3f3",
           "#FF6692",
           "#B6E880",
           "#FF97FF",
           "#FECB52"
          ],
          "font": {
           "color": "#2a3f5f"
          },
          "geo": {
           "bgcolor": "white",
           "lakecolor": "white",
           "landcolor": "#E5ECF6",
           "showlakes": true,
           "showland": true,
           "subunitcolor": "white"
          },
          "hoverlabel": {
           "align": "left"
          },
          "hovermode": "closest",
          "mapbox": {
           "style": "light"
          },
          "paper_bgcolor": "white",
          "plot_bgcolor": "#E5ECF6",
          "polar": {
           "angularaxis": {
            "gridcolor": "white",
            "linecolor": "white",
            "ticks": ""
           },
           "bgcolor": "#E5ECF6",
           "radialaxis": {
            "gridcolor": "white",
            "linecolor": "white",
            "ticks": ""
           }
          },
          "scene": {
           "xaxis": {
            "backgroundcolor": "#E5ECF6",
            "gridcolor": "white",
            "gridwidth": 2,
            "linecolor": "white",
            "showbackground": true,
            "ticks": "",
            "zerolinecolor": "white"
           },
           "yaxis": {
            "backgroundcolor": "#E5ECF6",
            "gridcolor": "white",
            "gridwidth": 2,
            "linecolor": "white",
            "showbackground": true,
            "ticks": "",
            "zerolinecolor": "white"
           },
           "zaxis": {
            "backgroundcolor": "#E5ECF6",
            "gridcolor": "white",
            "gridwidth": 2,
            "linecolor": "white",
            "showbackground": true,
            "ticks": "",
            "zerolinecolor": "white"
           }
          },
          "shapedefaults": {
           "line": {
            "color": "#2a3f5f"
           }
          },
          "ternary": {
           "aaxis": {
            "gridcolor": "white",
            "linecolor": "white",
            "ticks": ""
           },
           "baxis": {
            "gridcolor": "white",
            "linecolor": "white",
            "ticks": ""
           },
           "bgcolor": "#E5ECF6",
           "caxis": {
            "gridcolor": "white",
            "linecolor": "white",
            "ticks": ""
           }
          },
          "title": {
           "x": 0.05
          },
          "xaxis": {
           "automargin": true,
           "gridcolor": "white",
           "linecolor": "white",
           "ticks": "",
           "title": {
            "standoff": 15
           },
           "zerolinecolor": "white",
           "zerolinewidth": 2
          },
          "yaxis": {
           "automargin": true,
           "gridcolor": "white",
           "linecolor": "white",
           "ticks": "",
           "title": {
            "standoff": 15
           },
           "zerolinecolor": "white",
           "zerolinewidth": 2
          }
         }
        },
        "title": {
         "text": "Month-over-Month % Change in Transactions",
         "x": 0.5
        },
        "xaxis": {
         "anchor": "y",
         "domain": [
          0,
          1
         ],
         "tickformat": "%b %Y",
         "title": {
          "text": "Month-Year"
         }
        },
        "yaxis": {
         "anchor": "x",
         "domain": [
          0,
          1
         ],
         "title": {
          "text": "MoM % Change"
         }
        }
       }
      }
     },
     "metadata": {},
     "output_type": "display_data"
    }
   ],
   "source": [
    "# Aggregate by month and count transactions\n",
    "monthly_counts = london_df.groupby('month_year').size().reset_index(name='transaction_count')\n",
    "\n",
    "# Calculate MoM % change\n",
    "monthly_counts['mom_percent_change'] = monthly_counts['transaction_count'].pct_change() * 100\n",
    "\n",
    "# Plot MoM % change\n",
    "fig = px.line(\n",
    "    monthly_counts,\n",
    "    x='month_year',\n",
    "    y='mom_percent_change',\n",
    "    title='Month-over-Month % Change in Transactions',\n",
    "    labels={'month_year': 'Month-Year', 'mom_percent_change': 'MoM % Change'},\n",
    "    markers=True\n",
    ")\n",
    "\n",
    "# Add zero line and format\n",
    "fig.add_hline(y=0, line_dash=\"dash\", line_color=\"gray\")\n",
    "fig.update_layout(xaxis=dict(tickformat='%b %Y'), title_x=0.5)\n",
    "\n",
    "fig.show()\n"
   ]
  },
  {
   "cell_type": "markdown",
   "id": "f1614d4c",
   "metadata": {},
   "source": [
    "### 3.3) Average prices over time"
   ]
  },
  {
   "cell_type": "code",
   "execution_count": 8,
   "id": "afd301aa",
   "metadata": {},
   "outputs": [
    {
     "data": {
      "application/vnd.plotly.v1+json": {
       "config": {
        "plotlyServerURL": "https://plot.ly"
       },
       "data": [
        {
         "hovertemplate": "Month-Year=%{x}<br>Average Price (£)=%{y}<extra></extra>",
         "legendgroup": "",
         "line": {
          "color": "#636efa",
          "dash": "solid"
         },
         "marker": {
          "symbol": "circle"
         },
         "mode": "lines+markers",
         "name": "",
         "orientation": "v",
         "showlegend": false,
         "type": "scatter",
         "x": [
          "2018-01-01T00:00:00.000000000",
          "2018-02-01T00:00:00.000000000",
          "2018-03-01T00:00:00.000000000",
          "2018-04-01T00:00:00.000000000",
          "2018-05-01T00:00:00.000000000",
          "2018-06-01T00:00:00.000000000",
          "2018-07-01T00:00:00.000000000",
          "2018-08-01T00:00:00.000000000",
          "2018-09-01T00:00:00.000000000",
          "2018-10-01T00:00:00.000000000",
          "2018-11-01T00:00:00.000000000",
          "2018-12-01T00:00:00.000000000",
          "2019-01-01T00:00:00.000000000",
          "2019-02-01T00:00:00.000000000",
          "2019-03-01T00:00:00.000000000",
          "2019-04-01T00:00:00.000000000",
          "2019-05-01T00:00:00.000000000",
          "2019-06-01T00:00:00.000000000",
          "2019-07-01T00:00:00.000000000",
          "2019-08-01T00:00:00.000000000",
          "2019-09-01T00:00:00.000000000",
          "2019-10-01T00:00:00.000000000",
          "2019-11-01T00:00:00.000000000",
          "2019-12-01T00:00:00.000000000",
          "2020-01-01T00:00:00.000000000",
          "2020-02-01T00:00:00.000000000",
          "2020-03-01T00:00:00.000000000",
          "2020-04-01T00:00:00.000000000",
          "2020-05-01T00:00:00.000000000",
          "2020-06-01T00:00:00.000000000",
          "2020-07-01T00:00:00.000000000",
          "2020-08-01T00:00:00.000000000",
          "2020-09-01T00:00:00.000000000",
          "2020-10-01T00:00:00.000000000",
          "2020-11-01T00:00:00.000000000",
          "2020-12-01T00:00:00.000000000",
          "2021-01-01T00:00:00.000000000",
          "2021-02-01T00:00:00.000000000",
          "2021-03-01T00:00:00.000000000",
          "2021-04-01T00:00:00.000000000",
          "2021-05-01T00:00:00.000000000",
          "2021-06-01T00:00:00.000000000",
          "2021-07-01T00:00:00.000000000",
          "2021-08-01T00:00:00.000000000",
          "2021-09-01T00:00:00.000000000",
          "2021-10-01T00:00:00.000000000",
          "2021-11-01T00:00:00.000000000",
          "2021-12-01T00:00:00.000000000",
          "2022-01-01T00:00:00.000000000",
          "2022-02-01T00:00:00.000000000",
          "2022-03-01T00:00:00.000000000",
          "2022-04-01T00:00:00.000000000",
          "2022-05-01T00:00:00.000000000",
          "2022-06-01T00:00:00.000000000",
          "2022-07-01T00:00:00.000000000",
          "2022-08-01T00:00:00.000000000",
          "2022-09-01T00:00:00.000000000",
          "2022-10-01T00:00:00.000000000",
          "2022-11-01T00:00:00.000000000",
          "2022-12-01T00:00:00.000000000",
          "2023-01-01T00:00:00.000000000",
          "2023-02-01T00:00:00.000000000",
          "2023-03-01T00:00:00.000000000",
          "2023-04-01T00:00:00.000000000",
          "2023-05-01T00:00:00.000000000",
          "2023-06-01T00:00:00.000000000",
          "2023-07-01T00:00:00.000000000",
          "2023-08-01T00:00:00.000000000",
          "2023-09-01T00:00:00.000000000",
          "2023-10-01T00:00:00.000000000",
          "2023-11-01T00:00:00.000000000",
          "2023-12-01T00:00:00.000000000",
          "2024-01-01T00:00:00.000000000",
          "2024-02-01T00:00:00.000000000",
          "2024-03-01T00:00:00.000000000",
          "2024-04-01T00:00:00.000000000",
          "2024-05-01T00:00:00.000000000",
          "2024-06-01T00:00:00.000000000",
          "2024-07-01T00:00:00.000000000",
          "2024-08-01T00:00:00.000000000",
          "2024-09-01T00:00:00.000000000",
          "2024-10-01T00:00:00.000000000",
          "2024-11-01T00:00:00.000000000",
          "2024-12-01T00:00:00.000000000",
          "2025-01-01T00:00:00.000000000",
          "2025-02-01T00:00:00.000000000",
          "2025-03-01T00:00:00.000000000",
          "2025-04-01T00:00:00.000000000",
          "2025-05-01T00:00:00.000000000",
          "2025-06-01T00:00:00.000000000"
         ],
         "xaxis": "x",
         "y": {
          "bdata": "7XNIJSIbMUHKJC/P2MgwQWlPSwkS/CxBiyPs3ZVkL0FghMs1DBIwQUvloIEH2y5BLbOAwa3+L0EeoNaNPSUsQU0561bqDTFBAPEBQndpK0G1oVp4hPErQXnz9M8ZzjBBMcCIkiHSMEGqFNLXMrQrQfHC046aizpBGBgWTZfNMUE/TYic/tcsQcP3UXGz8yxBNLyW1sqbLEHTe7sE+VMtQdk0h+9J1yxBYKQ4ArCvKUEWfnAt1JQuQRMvLvsrpDFB5D11av9mLkFtAn0QIKgrQUzi4N15ly9Bp2XU3kBzMkEDP1pPy4AsQSEmV3BICjJBgShuDP9DLUHks24Mk8QqQcuoL8jM7TdBqPoR8hmgL0E0t65cxJ8sQSOavrA/Ty1BIV+THQQwLEHj78Hp/l0pQbBDPWGL3C5BHa59OAClJ0F4T3z33bosQXJn1mEUPylBXIl90ZzEM0GZ55VCUIAvQa6LcJ/hIC9Bm5oVVpLhMkEhAo6RtQ0xQX7Hu2kHezFBI8VkSp0rMkGW6B3xpeMrQWt7UrNZoC9Bc+zZ4gXiMUFnC927jzgvQf1vBSjp4S9B8Tn+kovoLkFAm5214kEwQeeLPP6ogi9BfWSEyamQK0H2dDDZEF4qQQHD3zTIOi1BHDhwmH41L0HxqlguY2ErQQPDMnkwGjBBNXxa4qRrLUHCgm9xbssvQQQUcafFgzRB+OZ/mhaNK0H+/tnx5qouQWFw0d/UEy5B0yG9ra16LEE+ltDLIvQsQTAWELISBC9BHzlGtPqRMEGAGJVi3mYsQS0Q18oVQzBBDs4pnOB7MEHmNJ6VawstQba5CH4k2CtB5pegoVUPLEFi/FedrAQrQc7hfbVw2SpBS0tLSxcYKkFVezO7y+0oQQn6q+vlzSpB+bpNCXyNLkGYbAFETjwmQS9OVwWS/SNBZUaN9DC2K0FYOupeO7MmQfJvficLvyZB",
          "dtype": "f8"
         },
         "yaxis": "y"
        }
       ],
       "layout": {
        "legend": {
         "tracegroupgap": 0
        },
        "template": {
         "data": {
          "bar": [
           {
            "error_x": {
             "color": "#2a3f5f"
            },
            "error_y": {
             "color": "#2a3f5f"
            },
            "marker": {
             "line": {
              "color": "#E5ECF6",
              "width": 0.5
             },
             "pattern": {
              "fillmode": "overlay",
              "size": 10,
              "solidity": 0.2
             }
            },
            "type": "bar"
           }
          ],
          "barpolar": [
           {
            "marker": {
             "line": {
              "color": "#E5ECF6",
              "width": 0.5
             },
             "pattern": {
              "fillmode": "overlay",
              "size": 10,
              "solidity": 0.2
             }
            },
            "type": "barpolar"
           }
          ],
          "carpet": [
           {
            "aaxis": {
             "endlinecolor": "#2a3f5f",
             "gridcolor": "white",
             "linecolor": "white",
             "minorgridcolor": "white",
             "startlinecolor": "#2a3f5f"
            },
            "baxis": {
             "endlinecolor": "#2a3f5f",
             "gridcolor": "white",
             "linecolor": "white",
             "minorgridcolor": "white",
             "startlinecolor": "#2a3f5f"
            },
            "type": "carpet"
           }
          ],
          "choropleth": [
           {
            "colorbar": {
             "outlinewidth": 0,
             "ticks": ""
            },
            "type": "choropleth"
           }
          ],
          "contour": [
           {
            "colorbar": {
             "outlinewidth": 0,
             "ticks": ""
            },
            "colorscale": [
             [
              0,
              "#0d0887"
             ],
             [
              0.1111111111111111,
              "#46039f"
             ],
             [
              0.2222222222222222,
              "#7201a8"
             ],
             [
              0.3333333333333333,
              "#9c179e"
             ],
             [
              0.4444444444444444,
              "#bd3786"
             ],
             [
              0.5555555555555556,
              "#d8576b"
             ],
             [
              0.6666666666666666,
              "#ed7953"
             ],
             [
              0.7777777777777778,
              "#fb9f3a"
             ],
             [
              0.8888888888888888,
              "#fdca26"
             ],
             [
              1,
              "#f0f921"
             ]
            ],
            "type": "contour"
           }
          ],
          "contourcarpet": [
           {
            "colorbar": {
             "outlinewidth": 0,
             "ticks": ""
            },
            "type": "contourcarpet"
           }
          ],
          "heatmap": [
           {
            "colorbar": {
             "outlinewidth": 0,
             "ticks": ""
            },
            "colorscale": [
             [
              0,
              "#0d0887"
             ],
             [
              0.1111111111111111,
              "#46039f"
             ],
             [
              0.2222222222222222,
              "#7201a8"
             ],
             [
              0.3333333333333333,
              "#9c179e"
             ],
             [
              0.4444444444444444,
              "#bd3786"
             ],
             [
              0.5555555555555556,
              "#d8576b"
             ],
             [
              0.6666666666666666,
              "#ed7953"
             ],
             [
              0.7777777777777778,
              "#fb9f3a"
             ],
             [
              0.8888888888888888,
              "#fdca26"
             ],
             [
              1,
              "#f0f921"
             ]
            ],
            "type": "heatmap"
           }
          ],
          "histogram": [
           {
            "marker": {
             "pattern": {
              "fillmode": "overlay",
              "size": 10,
              "solidity": 0.2
             }
            },
            "type": "histogram"
           }
          ],
          "histogram2d": [
           {
            "colorbar": {
             "outlinewidth": 0,
             "ticks": ""
            },
            "colorscale": [
             [
              0,
              "#0d0887"
             ],
             [
              0.1111111111111111,
              "#46039f"
             ],
             [
              0.2222222222222222,
              "#7201a8"
             ],
             [
              0.3333333333333333,
              "#9c179e"
             ],
             [
              0.4444444444444444,
              "#bd3786"
             ],
             [
              0.5555555555555556,
              "#d8576b"
             ],
             [
              0.6666666666666666,
              "#ed7953"
             ],
             [
              0.7777777777777778,
              "#fb9f3a"
             ],
             [
              0.8888888888888888,
              "#fdca26"
             ],
             [
              1,
              "#f0f921"
             ]
            ],
            "type": "histogram2d"
           }
          ],
          "histogram2dcontour": [
           {
            "colorbar": {
             "outlinewidth": 0,
             "ticks": ""
            },
            "colorscale": [
             [
              0,
              "#0d0887"
             ],
             [
              0.1111111111111111,
              "#46039f"
             ],
             [
              0.2222222222222222,
              "#7201a8"
             ],
             [
              0.3333333333333333,
              "#9c179e"
             ],
             [
              0.4444444444444444,
              "#bd3786"
             ],
             [
              0.5555555555555556,
              "#d8576b"
             ],
             [
              0.6666666666666666,
              "#ed7953"
             ],
             [
              0.7777777777777778,
              "#fb9f3a"
             ],
             [
              0.8888888888888888,
              "#fdca26"
             ],
             [
              1,
              "#f0f921"
             ]
            ],
            "type": "histogram2dcontour"
           }
          ],
          "mesh3d": [
           {
            "colorbar": {
             "outlinewidth": 0,
             "ticks": ""
            },
            "type": "mesh3d"
           }
          ],
          "parcoords": [
           {
            "line": {
             "colorbar": {
              "outlinewidth": 0,
              "ticks": ""
             }
            },
            "type": "parcoords"
           }
          ],
          "pie": [
           {
            "automargin": true,
            "type": "pie"
           }
          ],
          "scatter": [
           {
            "fillpattern": {
             "fillmode": "overlay",
             "size": 10,
             "solidity": 0.2
            },
            "type": "scatter"
           }
          ],
          "scatter3d": [
           {
            "line": {
             "colorbar": {
              "outlinewidth": 0,
              "ticks": ""
             }
            },
            "marker": {
             "colorbar": {
              "outlinewidth": 0,
              "ticks": ""
             }
            },
            "type": "scatter3d"
           }
          ],
          "scattercarpet": [
           {
            "marker": {
             "colorbar": {
              "outlinewidth": 0,
              "ticks": ""
             }
            },
            "type": "scattercarpet"
           }
          ],
          "scattergeo": [
           {
            "marker": {
             "colorbar": {
              "outlinewidth": 0,
              "ticks": ""
             }
            },
            "type": "scattergeo"
           }
          ],
          "scattergl": [
           {
            "marker": {
             "colorbar": {
              "outlinewidth": 0,
              "ticks": ""
             }
            },
            "type": "scattergl"
           }
          ],
          "scattermap": [
           {
            "marker": {
             "colorbar": {
              "outlinewidth": 0,
              "ticks": ""
             }
            },
            "type": "scattermap"
           }
          ],
          "scattermapbox": [
           {
            "marker": {
             "colorbar": {
              "outlinewidth": 0,
              "ticks": ""
             }
            },
            "type": "scattermapbox"
           }
          ],
          "scatterpolar": [
           {
            "marker": {
             "colorbar": {
              "outlinewidth": 0,
              "ticks": ""
             }
            },
            "type": "scatterpolar"
           }
          ],
          "scatterpolargl": [
           {
            "marker": {
             "colorbar": {
              "outlinewidth": 0,
              "ticks": ""
             }
            },
            "type": "scatterpolargl"
           }
          ],
          "scatterternary": [
           {
            "marker": {
             "colorbar": {
              "outlinewidth": 0,
              "ticks": ""
             }
            },
            "type": "scatterternary"
           }
          ],
          "surface": [
           {
            "colorbar": {
             "outlinewidth": 0,
             "ticks": ""
            },
            "colorscale": [
             [
              0,
              "#0d0887"
             ],
             [
              0.1111111111111111,
              "#46039f"
             ],
             [
              0.2222222222222222,
              "#7201a8"
             ],
             [
              0.3333333333333333,
              "#9c179e"
             ],
             [
              0.4444444444444444,
              "#bd3786"
             ],
             [
              0.5555555555555556,
              "#d8576b"
             ],
             [
              0.6666666666666666,
              "#ed7953"
             ],
             [
              0.7777777777777778,
              "#fb9f3a"
             ],
             [
              0.8888888888888888,
              "#fdca26"
             ],
             [
              1,
              "#f0f921"
             ]
            ],
            "type": "surface"
           }
          ],
          "table": [
           {
            "cells": {
             "fill": {
              "color": "#EBF0F8"
             },
             "line": {
              "color": "white"
             }
            },
            "header": {
             "fill": {
              "color": "#C8D4E3"
             },
             "line": {
              "color": "white"
             }
            },
            "type": "table"
           }
          ]
         },
         "layout": {
          "annotationdefaults": {
           "arrowcolor": "#2a3f5f",
           "arrowhead": 0,
           "arrowwidth": 1
          },
          "autotypenumbers": "strict",
          "coloraxis": {
           "colorbar": {
            "outlinewidth": 0,
            "ticks": ""
           }
          },
          "colorscale": {
           "diverging": [
            [
             0,
             "#8e0152"
            ],
            [
             0.1,
             "#c51b7d"
            ],
            [
             0.2,
             "#de77ae"
            ],
            [
             0.3,
             "#f1b6da"
            ],
            [
             0.4,
             "#fde0ef"
            ],
            [
             0.5,
             "#f7f7f7"
            ],
            [
             0.6,
             "#e6f5d0"
            ],
            [
             0.7,
             "#b8e186"
            ],
            [
             0.8,
             "#7fbc41"
            ],
            [
             0.9,
             "#4d9221"
            ],
            [
             1,
             "#276419"
            ]
           ],
           "sequential": [
            [
             0,
             "#0d0887"
            ],
            [
             0.1111111111111111,
             "#46039f"
            ],
            [
             0.2222222222222222,
             "#7201a8"
            ],
            [
             0.3333333333333333,
             "#9c179e"
            ],
            [
             0.4444444444444444,
             "#bd3786"
            ],
            [
             0.5555555555555556,
             "#d8576b"
            ],
            [
             0.6666666666666666,
             "#ed7953"
            ],
            [
             0.7777777777777778,
             "#fb9f3a"
            ],
            [
             0.8888888888888888,
             "#fdca26"
            ],
            [
             1,
             "#f0f921"
            ]
           ],
           "sequentialminus": [
            [
             0,
             "#0d0887"
            ],
            [
             0.1111111111111111,
             "#46039f"
            ],
            [
             0.2222222222222222,
             "#7201a8"
            ],
            [
             0.3333333333333333,
             "#9c179e"
            ],
            [
             0.4444444444444444,
             "#bd3786"
            ],
            [
             0.5555555555555556,
             "#d8576b"
            ],
            [
             0.6666666666666666,
             "#ed7953"
            ],
            [
             0.7777777777777778,
             "#fb9f3a"
            ],
            [
             0.8888888888888888,
             "#fdca26"
            ],
            [
             1,
             "#f0f921"
            ]
           ]
          },
          "colorway": [
           "#636efa",
           "#EF553B",
           "#00cc96",
           "#ab63fa",
           "#FFA15A",
           "#19d3f3",
           "#FF6692",
           "#B6E880",
           "#FF97FF",
           "#FECB52"
          ],
          "font": {
           "color": "#2a3f5f"
          },
          "geo": {
           "bgcolor": "white",
           "lakecolor": "white",
           "landcolor": "#E5ECF6",
           "showlakes": true,
           "showland": true,
           "subunitcolor": "white"
          },
          "hoverlabel": {
           "align": "left"
          },
          "hovermode": "closest",
          "mapbox": {
           "style": "light"
          },
          "paper_bgcolor": "white",
          "plot_bgcolor": "#E5ECF6",
          "polar": {
           "angularaxis": {
            "gridcolor": "white",
            "linecolor": "white",
            "ticks": ""
           },
           "bgcolor": "#E5ECF6",
           "radialaxis": {
            "gridcolor": "white",
            "linecolor": "white",
            "ticks": ""
           }
          },
          "scene": {
           "xaxis": {
            "backgroundcolor": "#E5ECF6",
            "gridcolor": "white",
            "gridwidth": 2,
            "linecolor": "white",
            "showbackground": true,
            "ticks": "",
            "zerolinecolor": "white"
           },
           "yaxis": {
            "backgroundcolor": "#E5ECF6",
            "gridcolor": "white",
            "gridwidth": 2,
            "linecolor": "white",
            "showbackground": true,
            "ticks": "",
            "zerolinecolor": "white"
           },
           "zaxis": {
            "backgroundcolor": "#E5ECF6",
            "gridcolor": "white",
            "gridwidth": 2,
            "linecolor": "white",
            "showbackground": true,
            "ticks": "",
            "zerolinecolor": "white"
           }
          },
          "shapedefaults": {
           "line": {
            "color": "#2a3f5f"
           }
          },
          "ternary": {
           "aaxis": {
            "gridcolor": "white",
            "linecolor": "white",
            "ticks": ""
           },
           "baxis": {
            "gridcolor": "white",
            "linecolor": "white",
            "ticks": ""
           },
           "bgcolor": "#E5ECF6",
           "caxis": {
            "gridcolor": "white",
            "linecolor": "white",
            "ticks": ""
           }
          },
          "title": {
           "x": 0.05
          },
          "xaxis": {
           "automargin": true,
           "gridcolor": "white",
           "linecolor": "white",
           "ticks": "",
           "title": {
            "standoff": 15
           },
           "zerolinecolor": "white",
           "zerolinewidth": 2
          },
          "yaxis": {
           "automargin": true,
           "gridcolor": "white",
           "linecolor": "white",
           "ticks": "",
           "title": {
            "standoff": 15
           },
           "zerolinecolor": "white",
           "zerolinewidth": 2
          }
         }
        },
        "title": {
         "text": "Monthly Average Property Price in London",
         "x": 0.5
        },
        "xaxis": {
         "anchor": "y",
         "domain": [
          0,
          1
         ],
         "tickformat": "%b %Y",
         "title": {
          "text": "Month-Year"
         }
        },
        "yaxis": {
         "anchor": "x",
         "domain": [
          0,
          1
         ],
         "tickprefix": "£",
         "title": {
          "text": "Average Price (£)"
         }
        }
       }
      }
     },
     "metadata": {},
     "output_type": "display_data"
    }
   ],
   "source": [
    "london_df['month_year'] = london_df['transfer_date'].dt.to_period('M').dt.to_timestamp()\n",
    "\n",
    "# Group by month and compute average price\n",
    "monthly_avg = (\n",
    "    london_df\n",
    "    .groupby('month_year', as_index=False)['price']\n",
    "    .mean()\n",
    "    .rename(columns={'price': 'avg_price'})\n",
    ")\n",
    "\n",
    "# Plot using Plotly Express\n",
    "fig = px.line(\n",
    "    monthly_avg,\n",
    "    x='month_year',\n",
    "    y='avg_price',\n",
    "    title='Monthly Average Property Price in London',\n",
    "    labels={'month_year': 'Month-Year', 'avg_price': 'Average Price (£)'},\n",
    "    markers=True\n",
    ")\n",
    "\n",
    "fig.update_layout(\n",
    "    xaxis=dict(tickformat='%b %Y'),\n",
    "    title_x=0.5,\n",
    "    yaxis_tickprefix='£'\n",
    ")\n",
    "\n",
    "fig.show()"
   ]
  },
  {
   "cell_type": "markdown",
   "id": "d797bb67",
   "metadata": {},
   "source": [
    "### 3.4) MoM % change in average prices"
   ]
  },
  {
   "cell_type": "code",
   "execution_count": 9,
   "id": "8efd409f",
   "metadata": {},
   "outputs": [
    {
     "data": {
      "application/vnd.plotly.v1+json": {
       "config": {
        "plotlyServerURL": "https://plot.ly"
       },
       "data": [
        {
         "hovertemplate": "Month-Year=%{x}<br>MoM % Change in Avg Price=%{y}<extra></extra>",
         "legendgroup": "",
         "line": {
          "color": "#636efa",
          "dash": "solid"
         },
         "marker": {
          "symbol": "circle"
         },
         "mode": "lines+markers",
         "name": "",
         "orientation": "v",
         "showlegend": false,
         "type": "scatter",
         "x": [
          "2018-01-01T00:00:00.000000000",
          "2018-02-01T00:00:00.000000000",
          "2018-03-01T00:00:00.000000000",
          "2018-04-01T00:00:00.000000000",
          "2018-05-01T00:00:00.000000000",
          "2018-06-01T00:00:00.000000000",
          "2018-07-01T00:00:00.000000000",
          "2018-08-01T00:00:00.000000000",
          "2018-09-01T00:00:00.000000000",
          "2018-10-01T00:00:00.000000000",
          "2018-11-01T00:00:00.000000000",
          "2018-12-01T00:00:00.000000000",
          "2019-01-01T00:00:00.000000000",
          "2019-02-01T00:00:00.000000000",
          "2019-03-01T00:00:00.000000000",
          "2019-04-01T00:00:00.000000000",
          "2019-05-01T00:00:00.000000000",
          "2019-06-01T00:00:00.000000000",
          "2019-07-01T00:00:00.000000000",
          "2019-08-01T00:00:00.000000000",
          "2019-09-01T00:00:00.000000000",
          "2019-10-01T00:00:00.000000000",
          "2019-11-01T00:00:00.000000000",
          "2019-12-01T00:00:00.000000000",
          "2020-01-01T00:00:00.000000000",
          "2020-02-01T00:00:00.000000000",
          "2020-03-01T00:00:00.000000000",
          "2020-04-01T00:00:00.000000000",
          "2020-05-01T00:00:00.000000000",
          "2020-06-01T00:00:00.000000000",
          "2020-07-01T00:00:00.000000000",
          "2020-08-01T00:00:00.000000000",
          "2020-09-01T00:00:00.000000000",
          "2020-10-01T00:00:00.000000000",
          "2020-11-01T00:00:00.000000000",
          "2020-12-01T00:00:00.000000000",
          "2021-01-01T00:00:00.000000000",
          "2021-02-01T00:00:00.000000000",
          "2021-03-01T00:00:00.000000000",
          "2021-04-01T00:00:00.000000000",
          "2021-05-01T00:00:00.000000000",
          "2021-06-01T00:00:00.000000000",
          "2021-07-01T00:00:00.000000000",
          "2021-08-01T00:00:00.000000000",
          "2021-09-01T00:00:00.000000000",
          "2021-10-01T00:00:00.000000000",
          "2021-11-01T00:00:00.000000000",
          "2021-12-01T00:00:00.000000000",
          "2022-01-01T00:00:00.000000000",
          "2022-02-01T00:00:00.000000000",
          "2022-03-01T00:00:00.000000000",
          "2022-04-01T00:00:00.000000000",
          "2022-05-01T00:00:00.000000000",
          "2022-06-01T00:00:00.000000000",
          "2022-07-01T00:00:00.000000000",
          "2022-08-01T00:00:00.000000000",
          "2022-09-01T00:00:00.000000000",
          "2022-10-01T00:00:00.000000000",
          "2022-11-01T00:00:00.000000000",
          "2022-12-01T00:00:00.000000000",
          "2023-01-01T00:00:00.000000000",
          "2023-02-01T00:00:00.000000000",
          "2023-03-01T00:00:00.000000000",
          "2023-04-01T00:00:00.000000000",
          "2023-05-01T00:00:00.000000000",
          "2023-06-01T00:00:00.000000000",
          "2023-07-01T00:00:00.000000000",
          "2023-08-01T00:00:00.000000000",
          "2023-09-01T00:00:00.000000000",
          "2023-10-01T00:00:00.000000000",
          "2023-11-01T00:00:00.000000000",
          "2023-12-01T00:00:00.000000000",
          "2024-01-01T00:00:00.000000000",
          "2024-02-01T00:00:00.000000000",
          "2024-03-01T00:00:00.000000000",
          "2024-04-01T00:00:00.000000000",
          "2024-05-01T00:00:00.000000000",
          "2024-06-01T00:00:00.000000000",
          "2024-07-01T00:00:00.000000000",
          "2024-08-01T00:00:00.000000000",
          "2024-09-01T00:00:00.000000000",
          "2024-10-01T00:00:00.000000000",
          "2024-11-01T00:00:00.000000000",
          "2024-12-01T00:00:00.000000000",
          "2025-01-01T00:00:00.000000000",
          "2025-02-01T00:00:00.000000000",
          "2025-03-01T00:00:00.000000000",
          "2025-04-01T00:00:00.000000000",
          "2025-05-01T00:00:00.000000000",
          "2025-06-01T00:00:00.000000000"
         ],
         "xaxis": "x",
         "y": {
          "bdata": "AAAAAAAA+H+syCp0nxD+v6KcHsVHUCvA8QNEOxSeIEC0X5sxVhADQJssfQyQ/g/AcmO1yamJDUD7Obea+w8owMK4/dHtLzVAMnEywS2iM8DsQcMPJgX/Pyg3vA6BRzRAQJKwbZL7tz+B2bHuZaYxwNp9p6G06FZAxdAuhXR3QMBdEd7ICv4ywOBwIR+jA9g/NtHvuS368r+YYgdcWx4EQH7rNGUskvq/SU33+V/gJcBAsmYFpA4zQI5xqVLnvi5AHjosd/CpK8CdUWtLzg8iwEQlIvWqdCxAULeOFtzNMEAFpCSutsE2wPIJFNN5lTpAuK3dmjzjMsB2gTWEyBEhwGT4MipzslNAUPekQYH1QMCvh0dr+PoiwFwrMQxzKANA/+Nn0PifDsDkEueN+AIkwEXU+4LCqDVAlFbqaZBiN8CGzMz2/YE1QBbyDXsRQCjAV73/U+JMTEDGN4v3n1I0wEyxDwQp7/K/FA+346hPNUBIpdrE3lsjwFCZ6FBNCARAbpkDBHKRD0AKoSOFmEE3wKmCYDK5zCpAKmfemFctKkCXoWnIIGopwJomKohg8wBAu7+NDR9xCMBcoKm/3skUQKSw1AwFtgjA0O2dY5AKKcBrhzZxEWERwMRgjPS7tSVAIzREsTsWG0Cpdtry7ogowIOcgJx9njFAT6y1SUpKIcDTUpubuiMgQAt7ph2RCz1AQsOByNlsQMD6RMnlg58mQDJeahK1yf6/Jlh18lJBFcDkLcOlpKf6P+OD4PaLfRxAAAzwWEdmG0C0gDso5pgswFJ12dk4By1AuK+ugbXT9T+MnpWK0swnwLiN7azNhxDAiM5UxevG6D/rYL9nmbINwJBTyU2RAOS/2EH+lAGBBsBZ3Yssm9wRwEwI2H+MFx5ArLurSvL3K0DK/0z04Dg7wEQB2FmDMSTAkAca7OVPQ0Coa+tOqxUywCAV5Y5HBMo/",
          "dtype": "f8"
         },
         "yaxis": "y"
        }
       ],
       "layout": {
        "legend": {
         "tracegroupgap": 0
        },
        "shapes": [
         {
          "line": {
           "color": "gray",
           "dash": "dash"
          },
          "type": "line",
          "x0": 0,
          "x1": 1,
          "xref": "x domain",
          "y0": 0,
          "y1": 0,
          "yref": "y"
         }
        ],
        "template": {
         "data": {
          "bar": [
           {
            "error_x": {
             "color": "#2a3f5f"
            },
            "error_y": {
             "color": "#2a3f5f"
            },
            "marker": {
             "line": {
              "color": "#E5ECF6",
              "width": 0.5
             },
             "pattern": {
              "fillmode": "overlay",
              "size": 10,
              "solidity": 0.2
             }
            },
            "type": "bar"
           }
          ],
          "barpolar": [
           {
            "marker": {
             "line": {
              "color": "#E5ECF6",
              "width": 0.5
             },
             "pattern": {
              "fillmode": "overlay",
              "size": 10,
              "solidity": 0.2
             }
            },
            "type": "barpolar"
           }
          ],
          "carpet": [
           {
            "aaxis": {
             "endlinecolor": "#2a3f5f",
             "gridcolor": "white",
             "linecolor": "white",
             "minorgridcolor": "white",
             "startlinecolor": "#2a3f5f"
            },
            "baxis": {
             "endlinecolor": "#2a3f5f",
             "gridcolor": "white",
             "linecolor": "white",
             "minorgridcolor": "white",
             "startlinecolor": "#2a3f5f"
            },
            "type": "carpet"
           }
          ],
          "choropleth": [
           {
            "colorbar": {
             "outlinewidth": 0,
             "ticks": ""
            },
            "type": "choropleth"
           }
          ],
          "contour": [
           {
            "colorbar": {
             "outlinewidth": 0,
             "ticks": ""
            },
            "colorscale": [
             [
              0,
              "#0d0887"
             ],
             [
              0.1111111111111111,
              "#46039f"
             ],
             [
              0.2222222222222222,
              "#7201a8"
             ],
             [
              0.3333333333333333,
              "#9c179e"
             ],
             [
              0.4444444444444444,
              "#bd3786"
             ],
             [
              0.5555555555555556,
              "#d8576b"
             ],
             [
              0.6666666666666666,
              "#ed7953"
             ],
             [
              0.7777777777777778,
              "#fb9f3a"
             ],
             [
              0.8888888888888888,
              "#fdca26"
             ],
             [
              1,
              "#f0f921"
             ]
            ],
            "type": "contour"
           }
          ],
          "contourcarpet": [
           {
            "colorbar": {
             "outlinewidth": 0,
             "ticks": ""
            },
            "type": "contourcarpet"
           }
          ],
          "heatmap": [
           {
            "colorbar": {
             "outlinewidth": 0,
             "ticks": ""
            },
            "colorscale": [
             [
              0,
              "#0d0887"
             ],
             [
              0.1111111111111111,
              "#46039f"
             ],
             [
              0.2222222222222222,
              "#7201a8"
             ],
             [
              0.3333333333333333,
              "#9c179e"
             ],
             [
              0.4444444444444444,
              "#bd3786"
             ],
             [
              0.5555555555555556,
              "#d8576b"
             ],
             [
              0.6666666666666666,
              "#ed7953"
             ],
             [
              0.7777777777777778,
              "#fb9f3a"
             ],
             [
              0.8888888888888888,
              "#fdca26"
             ],
             [
              1,
              "#f0f921"
             ]
            ],
            "type": "heatmap"
           }
          ],
          "histogram": [
           {
            "marker": {
             "pattern": {
              "fillmode": "overlay",
              "size": 10,
              "solidity": 0.2
             }
            },
            "type": "histogram"
           }
          ],
          "histogram2d": [
           {
            "colorbar": {
             "outlinewidth": 0,
             "ticks": ""
            },
            "colorscale": [
             [
              0,
              "#0d0887"
             ],
             [
              0.1111111111111111,
              "#46039f"
             ],
             [
              0.2222222222222222,
              "#7201a8"
             ],
             [
              0.3333333333333333,
              "#9c179e"
             ],
             [
              0.4444444444444444,
              "#bd3786"
             ],
             [
              0.5555555555555556,
              "#d8576b"
             ],
             [
              0.6666666666666666,
              "#ed7953"
             ],
             [
              0.7777777777777778,
              "#fb9f3a"
             ],
             [
              0.8888888888888888,
              "#fdca26"
             ],
             [
              1,
              "#f0f921"
             ]
            ],
            "type": "histogram2d"
           }
          ],
          "histogram2dcontour": [
           {
            "colorbar": {
             "outlinewidth": 0,
             "ticks": ""
            },
            "colorscale": [
             [
              0,
              "#0d0887"
             ],
             [
              0.1111111111111111,
              "#46039f"
             ],
             [
              0.2222222222222222,
              "#7201a8"
             ],
             [
              0.3333333333333333,
              "#9c179e"
             ],
             [
              0.4444444444444444,
              "#bd3786"
             ],
             [
              0.5555555555555556,
              "#d8576b"
             ],
             [
              0.6666666666666666,
              "#ed7953"
             ],
             [
              0.7777777777777778,
              "#fb9f3a"
             ],
             [
              0.8888888888888888,
              "#fdca26"
             ],
             [
              1,
              "#f0f921"
             ]
            ],
            "type": "histogram2dcontour"
           }
          ],
          "mesh3d": [
           {
            "colorbar": {
             "outlinewidth": 0,
             "ticks": ""
            },
            "type": "mesh3d"
           }
          ],
          "parcoords": [
           {
            "line": {
             "colorbar": {
              "outlinewidth": 0,
              "ticks": ""
             }
            },
            "type": "parcoords"
           }
          ],
          "pie": [
           {
            "automargin": true,
            "type": "pie"
           }
          ],
          "scatter": [
           {
            "fillpattern": {
             "fillmode": "overlay",
             "size": 10,
             "solidity": 0.2
            },
            "type": "scatter"
           }
          ],
          "scatter3d": [
           {
            "line": {
             "colorbar": {
              "outlinewidth": 0,
              "ticks": ""
             }
            },
            "marker": {
             "colorbar": {
              "outlinewidth": 0,
              "ticks": ""
             }
            },
            "type": "scatter3d"
           }
          ],
          "scattercarpet": [
           {
            "marker": {
             "colorbar": {
              "outlinewidth": 0,
              "ticks": ""
             }
            },
            "type": "scattercarpet"
           }
          ],
          "scattergeo": [
           {
            "marker": {
             "colorbar": {
              "outlinewidth": 0,
              "ticks": ""
             }
            },
            "type": "scattergeo"
           }
          ],
          "scattergl": [
           {
            "marker": {
             "colorbar": {
              "outlinewidth": 0,
              "ticks": ""
             }
            },
            "type": "scattergl"
           }
          ],
          "scattermap": [
           {
            "marker": {
             "colorbar": {
              "outlinewidth": 0,
              "ticks": ""
             }
            },
            "type": "scattermap"
           }
          ],
          "scattermapbox": [
           {
            "marker": {
             "colorbar": {
              "outlinewidth": 0,
              "ticks": ""
             }
            },
            "type": "scattermapbox"
           }
          ],
          "scatterpolar": [
           {
            "marker": {
             "colorbar": {
              "outlinewidth": 0,
              "ticks": ""
             }
            },
            "type": "scatterpolar"
           }
          ],
          "scatterpolargl": [
           {
            "marker": {
             "colorbar": {
              "outlinewidth": 0,
              "ticks": ""
             }
            },
            "type": "scatterpolargl"
           }
          ],
          "scatterternary": [
           {
            "marker": {
             "colorbar": {
              "outlinewidth": 0,
              "ticks": ""
             }
            },
            "type": "scatterternary"
           }
          ],
          "surface": [
           {
            "colorbar": {
             "outlinewidth": 0,
             "ticks": ""
            },
            "colorscale": [
             [
              0,
              "#0d0887"
             ],
             [
              0.1111111111111111,
              "#46039f"
             ],
             [
              0.2222222222222222,
              "#7201a8"
             ],
             [
              0.3333333333333333,
              "#9c179e"
             ],
             [
              0.4444444444444444,
              "#bd3786"
             ],
             [
              0.5555555555555556,
              "#d8576b"
             ],
             [
              0.6666666666666666,
              "#ed7953"
             ],
             [
              0.7777777777777778,
              "#fb9f3a"
             ],
             [
              0.8888888888888888,
              "#fdca26"
             ],
             [
              1,
              "#f0f921"
             ]
            ],
            "type": "surface"
           }
          ],
          "table": [
           {
            "cells": {
             "fill": {
              "color": "#EBF0F8"
             },
             "line": {
              "color": "white"
             }
            },
            "header": {
             "fill": {
              "color": "#C8D4E3"
             },
             "line": {
              "color": "white"
             }
            },
            "type": "table"
           }
          ]
         },
         "layout": {
          "annotationdefaults": {
           "arrowcolor": "#2a3f5f",
           "arrowhead": 0,
           "arrowwidth": 1
          },
          "autotypenumbers": "strict",
          "coloraxis": {
           "colorbar": {
            "outlinewidth": 0,
            "ticks": ""
           }
          },
          "colorscale": {
           "diverging": [
            [
             0,
             "#8e0152"
            ],
            [
             0.1,
             "#c51b7d"
            ],
            [
             0.2,
             "#de77ae"
            ],
            [
             0.3,
             "#f1b6da"
            ],
            [
             0.4,
             "#fde0ef"
            ],
            [
             0.5,
             "#f7f7f7"
            ],
            [
             0.6,
             "#e6f5d0"
            ],
            [
             0.7,
             "#b8e186"
            ],
            [
             0.8,
             "#7fbc41"
            ],
            [
             0.9,
             "#4d9221"
            ],
            [
             1,
             "#276419"
            ]
           ],
           "sequential": [
            [
             0,
             "#0d0887"
            ],
            [
             0.1111111111111111,
             "#46039f"
            ],
            [
             0.2222222222222222,
             "#7201a8"
            ],
            [
             0.3333333333333333,
             "#9c179e"
            ],
            [
             0.4444444444444444,
             "#bd3786"
            ],
            [
             0.5555555555555556,
             "#d8576b"
            ],
            [
             0.6666666666666666,
             "#ed7953"
            ],
            [
             0.7777777777777778,
             "#fb9f3a"
            ],
            [
             0.8888888888888888,
             "#fdca26"
            ],
            [
             1,
             "#f0f921"
            ]
           ],
           "sequentialminus": [
            [
             0,
             "#0d0887"
            ],
            [
             0.1111111111111111,
             "#46039f"
            ],
            [
             0.2222222222222222,
             "#7201a8"
            ],
            [
             0.3333333333333333,
             "#9c179e"
            ],
            [
             0.4444444444444444,
             "#bd3786"
            ],
            [
             0.5555555555555556,
             "#d8576b"
            ],
            [
             0.6666666666666666,
             "#ed7953"
            ],
            [
             0.7777777777777778,
             "#fb9f3a"
            ],
            [
             0.8888888888888888,
             "#fdca26"
            ],
            [
             1,
             "#f0f921"
            ]
           ]
          },
          "colorway": [
           "#636efa",
           "#EF553B",
           "#00cc96",
           "#ab63fa",
           "#FFA15A",
           "#19d3f3",
           "#FF6692",
           "#B6E880",
           "#FF97FF",
           "#FECB52"
          ],
          "font": {
           "color": "#2a3f5f"
          },
          "geo": {
           "bgcolor": "white",
           "lakecolor": "white",
           "landcolor": "#E5ECF6",
           "showlakes": true,
           "showland": true,
           "subunitcolor": "white"
          },
          "hoverlabel": {
           "align": "left"
          },
          "hovermode": "closest",
          "mapbox": {
           "style": "light"
          },
          "paper_bgcolor": "white",
          "plot_bgcolor": "#E5ECF6",
          "polar": {
           "angularaxis": {
            "gridcolor": "white",
            "linecolor": "white",
            "ticks": ""
           },
           "bgcolor": "#E5ECF6",
           "radialaxis": {
            "gridcolor": "white",
            "linecolor": "white",
            "ticks": ""
           }
          },
          "scene": {
           "xaxis": {
            "backgroundcolor": "#E5ECF6",
            "gridcolor": "white",
            "gridwidth": 2,
            "linecolor": "white",
            "showbackground": true,
            "ticks": "",
            "zerolinecolor": "white"
           },
           "yaxis": {
            "backgroundcolor": "#E5ECF6",
            "gridcolor": "white",
            "gridwidth": 2,
            "linecolor": "white",
            "showbackground": true,
            "ticks": "",
            "zerolinecolor": "white"
           },
           "zaxis": {
            "backgroundcolor": "#E5ECF6",
            "gridcolor": "white",
            "gridwidth": 2,
            "linecolor": "white",
            "showbackground": true,
            "ticks": "",
            "zerolinecolor": "white"
           }
          },
          "shapedefaults": {
           "line": {
            "color": "#2a3f5f"
           }
          },
          "ternary": {
           "aaxis": {
            "gridcolor": "white",
            "linecolor": "white",
            "ticks": ""
           },
           "baxis": {
            "gridcolor": "white",
            "linecolor": "white",
            "ticks": ""
           },
           "bgcolor": "#E5ECF6",
           "caxis": {
            "gridcolor": "white",
            "linecolor": "white",
            "ticks": ""
           }
          },
          "title": {
           "x": 0.05
          },
          "xaxis": {
           "automargin": true,
           "gridcolor": "white",
           "linecolor": "white",
           "ticks": "",
           "title": {
            "standoff": 15
           },
           "zerolinecolor": "white",
           "zerolinewidth": 2
          },
          "yaxis": {
           "automargin": true,
           "gridcolor": "white",
           "linecolor": "white",
           "ticks": "",
           "title": {
            "standoff": 15
           },
           "zerolinecolor": "white",
           "zerolinewidth": 2
          }
         }
        },
        "title": {
         "text": "Month-over-Month % Change in Average Price (London)",
         "x": 0.5
        },
        "xaxis": {
         "anchor": "y",
         "domain": [
          0,
          1
         ],
         "tickformat": "%b %Y",
         "title": {
          "text": "Month-Year"
         }
        },
        "yaxis": {
         "anchor": "x",
         "domain": [
          0,
          1
         ],
         "tickformat": ".1f%",
         "title": {
          "text": "MoM % Change in Avg Price"
         }
        }
       }
      }
     },
     "metadata": {},
     "output_type": "display_data"
    }
   ],
   "source": [
    "monthly_avg['mom_pct_change'] = monthly_avg['avg_price'].pct_change() * 100\n",
    "\n",
    "# Plot MoM % change using Plotly Express\n",
    "fig = px.line(\n",
    "    monthly_avg,\n",
    "    x='month_year',\n",
    "    y='mom_pct_change',\n",
    "    title='Month-over-Month % Change in Average Price (London)',\n",
    "    labels={'month_year': 'Month-Year', 'mom_pct_change': 'MoM % Change in Avg Price'},\n",
    "    markers=True\n",
    ")\n",
    "\n",
    "# add a zero reference line and formatting\n",
    "fig.add_hline(y=0, line_dash=\"dash\", line_color=\"gray\")\n",
    "fig.update_layout(\n",
    "    xaxis=dict(tickformat='%b %Y'),\n",
    "    title_x=0.5,\n",
    "    yaxis_tickformat='.1f%'\n",
    ")\n",
    "\n",
    "fig.show()"
   ]
  },
  {
   "cell_type": "markdown",
   "id": "6dce2115",
   "metadata": {},
   "source": [
    "### 3.5) Mapping"
   ]
  },
  {
   "cell_type": "code",
   "execution_count": 18,
   "id": "8c2e31d3",
   "metadata": {},
   "outputs": [],
   "source": [
    "# Import custom mapping utils\n",
    "from src.MappingUtils import *"
   ]
  },
  {
   "cell_type": "code",
   "execution_count": 19,
   "id": "94422289",
   "metadata": {},
   "outputs": [],
   "source": [
    "# Load the shapefile \n",
    "shapefile_path = \"./assets/CodePointOpen_London_201709.shx\"\n",
    "gdf = gpd.read_file(shapefile_path)\n",
    "gdf = gdf.to_crs(epsg=27700)\n"
   ]
  },
  {
   "cell_type": "code",
   "execution_count": 20,
   "id": "32b234bf",
   "metadata": {},
   "outputs": [],
   "source": [
    "# Add yearly transactions to shapefile\n",
    "gdf = add_transaction_columns_to_gdf(gdf,london_df)"
   ]
  },
  {
   "cell_type": "code",
   "execution_count": 26,
   "id": "78602d1f",
   "metadata": {},
   "outputs": [],
   "source": [
    "# Create a Hexgrid to perform hexbinning over post code units\n",
    "hexes = generate_hexgrid(gdf, hex_size = 1000)"
   ]
  },
  {
   "cell_type": "code",
   "execution_count": 27,
   "id": "25aa2597",
   "metadata": {},
   "outputs": [
    {
     "data": {
      "image/png": "[encoded data removed]",
      "text/plain": [
       "<Figure size 1200x1200 with 2 Axes>"
      ]
     },
     "metadata": {},
     "output_type": "display_data"
    }
   ],
   "source": [
    "# Plot transactions heatmap\n",
    "plot_transaction_heatmap(\n",
    "    gdf=gdf,\n",
    "    hexgrid=hexes,\n",
    "    boroughs_path=\"./assets/London_Boroughs.shp\",\n",
    "    year=2018,\n",
    "    hex_size=1000,\n",
    "    cmap=\"coolwarm\"\n",
    ")"
   ]
  },
  {
   "cell_type": "code",
   "execution_count": null,
   "id": "7392379d",
   "metadata": {},
   "outputs": [],
   "source": []
  }
 ],
 "metadata": {
  "kernelspec": {
   "display_name": "ag_env",
   "language": "python",
   "name": "python3"
  },
  "language_info": {
   "codemirror_mode": {
    "name": "ipython",
    "version": 3
   },
   "file_extension": ".py",
   "mimetype": "text/x-python",
   "name": "python",
   "nbconvert_exporter": "python",
   "pygments_lexer": "ipython3",
   "version": "3.12.0"
  }
 },
 "nbformat": 4,
 "nbformat_minor": 5
}
